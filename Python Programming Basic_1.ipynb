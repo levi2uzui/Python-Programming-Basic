{
 "cells": [
  {
   "cell_type": "code",
   "execution_count": 1,
   "id": "4d33167e",
   "metadata": {},
   "outputs": [],
   "source": [
    "#Assignment 1 solutions"
   ]
  },
  {
   "cell_type": "code",
   "execution_count": 2,
   "id": "acb7042f",
   "metadata": {},
   "outputs": [
    {
     "name": "stdout",
     "output_type": "stream",
     "text": [
      "Hello\n"
     ]
    }
   ],
   "source": [
    "#1.Write a Python program to print 'Hello Python' ?\n",
    "#ans1-\n",
    "print('Hello')"
   ]
  },
  {
   "cell_type": "code",
   "execution_count": 2,
   "id": "e3f15fcd",
   "metadata": {},
   "outputs": [
    {
     "name": "stdout",
     "output_type": "stream",
     "text": [
      "10\n",
      "5\n",
      "enter the choice '+' or '/'= /\n",
      "2.0\n"
     ]
    }
   ],
   "source": [
    "#2.Write a Python program to do arithmetic operations addition and division ?\n",
    "#ans2-\n",
    "def operation(a,b,choice):\n",
    "    if choice=='+':\n",
    "        return a+b\n",
    "    else:\n",
    "        return a/b\n",
    "a=int(input())\n",
    "b=int(input())\n",
    "print(\"enter the choice '+' or '/'=\")\n",
    "choice=str(input())\n",
    "operation(a,b,choice)"
   ]
  },
  {
   "cell_type": "code",
   "execution_count": 1,
   "id": "4f38c466",
   "metadata": {},
   "outputs": [
    {
     "name": "stdout",
     "output_type": "stream",
     "text": [
      "2\n",
      "3\n"
     ]
    },
    {
     "data": {
      "text/plain": [
       "6.0"
      ]
     },
     "execution_count": 1,
     "metadata": {},
     "output_type": "execute_result"
    }
   ],
   "source": [
    "#3.Write a Python program to find the area of a triangle ?\n",
    "#ans3-\n",
    "def area(l,b):\n",
    "    return l*b\n",
    "length=float(input())\n",
    "breadth=float(input())\n",
    "area(length,breadth)"
   ]
  },
  {
   "cell_type": "code",
   "execution_count": 2,
   "id": "466a5356",
   "metadata": {},
   "outputs": [
    {
     "name": "stdout",
     "output_type": "stream",
     "text": [
      "Enter the variable1= 2\n",
      "Enter the varible2 =3\n"
     ]
    },
    {
     "data": {
      "text/plain": [
       "('value of Variable1 is ', '3', 'value of variable2 is', '2')"
      ]
     },
     "execution_count": 2,
     "metadata": {},
     "output_type": "execute_result"
    }
   ],
   "source": [
    "#4.Write a Python program to swap two variables ?\n",
    "#ans4-\n",
    "def swap(a,b):\n",
    "    t=a\n",
    "    a=b\n",
    "    b=t\n",
    "    return  \"value of Variable1 is \" ,a,  \"value of variable2 is\" ,b\n",
    "a=input(\"Enter the variable1= \")\n",
    "b=input(\"Enter the varible2 =\")\n",
    "swap(a,b)  "
   ]
  },
  {
   "cell_type": "code",
   "execution_count": 7,
   "id": "f9a09da2",
   "metadata": {},
   "outputs": [
    {
     "name": "stdout",
     "output_type": "stream",
     "text": [
      "3169\n",
      "31\n"
     ]
    }
   ],
   "source": [
    "#5.Write a Python program to generate a random number ?\n",
    "#ans5-\n",
    "from random import randint\n",
    "def random_number(start=0,end=10000):\n",
    "    return randint(start,end)\n",
    "print(random_number())        #without arguments\n",
    "print(random_number(end=100))     #with arguments\n",
    "    "
   ]
  },
  {
   "cell_type": "code",
   "execution_count": null,
   "id": "7a919261",
   "metadata": {},
   "outputs": [],
   "source": []
  },
  {
   "cell_type": "code",
   "execution_count": null,
   "id": "d73d491e",
   "metadata": {},
   "outputs": [],
   "source": []
  }
 ],
 "metadata": {
  "kernelspec": {
   "display_name": "Python 3 (ipykernel)",
   "language": "python",
   "name": "python3"
  },
  "language_info": {
   "codemirror_mode": {
    "name": "ipython",
    "version": 3
   },
   "file_extension": ".py",
   "mimetype": "text/x-python",
   "name": "python",
   "nbconvert_exporter": "python",
   "pygments_lexer": "ipython3",
   "version": "3.9.7"
  }
 },
 "nbformat": 4,
 "nbformat_minor": 5
}
