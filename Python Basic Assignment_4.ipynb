{
 "cells": [
  {
   "cell_type": "code",
   "execution_count": 1,
   "id": "6df913d1",
   "metadata": {},
   "outputs": [],
   "source": [
    "#Assignment 4 solutions"
   ]
  },
  {
   "cell_type": "code",
   "execution_count": 2,
   "id": "de620e29",
   "metadata": {},
   "outputs": [
    {
     "name": "stdout",
     "output_type": "stream",
     "text": [
      "Enter the number = 5\n"
     ]
    },
    {
     "data": {
      "text/plain": [
       "'factorial of a number 5 is = 120'"
      ]
     },
     "execution_count": 2,
     "metadata": {},
     "output_type": "execute_result"
    }
   ],
   "source": [
    "#1.Write a Python Program to find the factorial of a number ?\n",
    "#ans1-\n",
    "def fact(num):\n",
    "    fact=1\n",
    "    i=1\n",
    "    while i<=num:\n",
    "        fact=fact*i\n",
    "        i+=1\n",
    "    return \"factorial of a number {} is = {}\".format(num,fact)\n",
    "num=int(input(\"Enter the number = \"))\n",
    "fact(num)"
   ]
  },
  {
   "cell_type": "code",
   "execution_count": 4,
   "id": "6c7f9f3d",
   "metadata": {},
   "outputs": [
    {
     "name": "stdout",
     "output_type": "stream",
     "text": [
      "Enter the number whose table to display =2\n",
      "2 X 1 = 2\n",
      "2 X 2 = 4\n",
      "2 X 3 = 6\n",
      "2 X 4 = 8\n",
      "2 X 5 = 10\n",
      "2 X 6 = 12\n",
      "2 X 7 = 14\n",
      "2 X 8 = 16\n",
      "2 X 9 = 18\n",
      "2 X 10 = 20\n"
     ]
    }
   ],
   "source": [
    "#2.Write a Python Program to display the multiplication table ?\n",
    "#ans2-\n",
    "def table(num):\n",
    "    for i in range(1,11):\n",
    "        print(\"{} X {} =\".format(num,i),num*i)\n",
    "num=int(input(\"Enter the number whose table to display =\"))\n",
    "table(num)"
   ]
  },
  {
   "cell_type": "code",
   "execution_count": 7,
   "id": "2105901d",
   "metadata": {},
   "outputs": [
    {
     "name": "stdout",
     "output_type": "stream",
     "text": [
      "Enter the how many terms of fibonacci do you need =10\n"
     ]
    },
    {
     "data": {
      "text/plain": [
       "[1, 1, 2, 3, 5, 8, 13, 21, 34, 55]"
      ]
     },
     "execution_count": 7,
     "metadata": {},
     "output_type": "execute_result"
    }
   ],
   "source": [
    "#3.Write a Python Program to print the fibonacci sequence ?\n",
    "#ans3-\n",
    "def fib(num):\n",
    "    a=1\n",
    "    b=1\n",
    "    l=[]\n",
    "    for i in range(1,num+1):\n",
    "            l.append(a)\n",
    "            a,b=b,a+b\n",
    "    return l\n",
    "num=int(input(\"Enter the how many terms of fibonacci do you need =\")) \n",
    "fib(num)"
   ]
  },
  {
   "cell_type": "code",
   "execution_count": 19,
   "id": "45833599",
   "metadata": {},
   "outputs": [
    {
     "name": "stdout",
     "output_type": "stream",
     "text": [
      "Enter the Start of the Interval: 0\n",
      "Enter the End of the Interval: 1000\n",
      "The Armstrong numbers between 0 and 1000 are [0, 1, 153, 370, 371, 407]\n"
     ]
    }
   ],
   "source": [
    "#4.Write a Python Program to check Armstrong number ?\n",
    "#ans4-\n",
    "def checkArmstrongNumber(in_num, storage):\n",
    "    sum = 0\n",
    "    for char in range(len(in_num)):\n",
    "        sum = sum + pow(int(in_num[char]),3)\n",
    "    if sum == int(in_num):\n",
    "        storage.append(int(in_num))\n",
    "\n",
    "start_interval = int(input('Enter the Start of the Interval: '))\n",
    "end_interval = int(input('Enter the End of the Interval: '))\n",
    "list_of_armstrong = []\n",
    "\n",
    "if start_interval > end_interval:\n",
    "    print(\"Start Interval Cannot be Greater than End Interval\")\n",
    "else:\n",
    "    for number in range(start_interval,end_interval+1):\n",
    "        checkArmstrongNumber(str(number),list_of_armstrong)\n",
    "    print(f'The Armstrong numbers between {start_interval} and {end_interval} are {list_of_armstrong}')\n",
    "    "
   ]
  },
  {
   "cell_type": "code",
   "execution_count": 22,
   "id": "d663087e",
   "metadata": {},
   "outputs": [
    {
     "name": "stdout",
     "output_type": "stream",
     "text": [
      "Enter the number upto which sum is required =5\n"
     ]
    },
    {
     "data": {
      "text/plain": [
       "('total sum of 5 natural number is =', 15)"
      ]
     },
     "execution_count": 22,
     "metadata": {},
     "output_type": "execute_result"
    }
   ],
   "source": [
    "#6.Write a Python Program to sum of natural numbers ?\n",
    "#ans6-\n",
    "def sum(num):\n",
    "    sum=0\n",
    "    for i in range (1,num+1):\n",
    "        sum=sum+i\n",
    "    return \"total sum of {} natural number is =\".format(num),sum\n",
    "num=int(input(\"Enter the number upto which sum is required =\"))\n",
    "sum(num)"
   ]
  },
  {
   "cell_type": "code",
   "execution_count": null,
   "id": "33971b7b",
   "metadata": {
    "scrolled": true
   },
   "outputs": [],
   "source": []
  },
  {
   "cell_type": "code",
   "execution_count": null,
   "id": "add1a13e",
   "metadata": {},
   "outputs": [],
   "source": []
  },
  {
   "cell_type": "code",
   "execution_count": null,
   "id": "f9e56ba4",
   "metadata": {},
   "outputs": [],
   "source": []
  },
  {
   "cell_type": "code",
   "execution_count": null,
   "id": "0eb8ea04",
   "metadata": {},
   "outputs": [],
   "source": []
  }
 ],
 "metadata": {
  "kernelspec": {
   "display_name": "Python 3 (ipykernel)",
   "language": "python",
   "name": "python3"
  },
  "language_info": {
   "codemirror_mode": {
    "name": "ipython",
    "version": 3
   },
   "file_extension": ".py",
   "mimetype": "text/x-python",
   "name": "python",
   "nbconvert_exporter": "python",
   "pygments_lexer": "ipython3",
   "version": "3.9.7"
  }
 },
 "nbformat": 4,
 "nbformat_minor": 5
}
