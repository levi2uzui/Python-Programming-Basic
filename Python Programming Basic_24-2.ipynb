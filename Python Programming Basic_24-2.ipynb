{
 "cells": [
  {
   "cell_type": "code",
   "execution_count": 1,
   "metadata": {},
   "outputs": [],
   "source": [
    "#Assignment 24 Solutions"
   ]
  },
  {
   "cell_type": "code",
   "execution_count": 4,
   "metadata": {},
   "outputs": [
    {
     "name": "stdout",
     "output_type": "stream",
     "text": [
      "amplify(4) ➞ [1, 2, 3, 40]\n",
      "amplify(3) ➞ [1, 2, 3]\n",
      "amplify(25) ➞ [1, 2, 3, 40, 5, 6, 7, 80, 9, 10, 11, 120, 13, 14, 15, 160, 17, 18, 19, 200, 21, 22, 23, 240, 25]\n"
     ]
    }
   ],
   "source": [
    "#1.Create a function that takes an integer and returns a list from 1 to the given number, where:\n",
    "#1.If the number can be divided evenly by 4, amplify it by 10 (i.e. return 10 times the number).\n",
    "#2.If the number cannot be divided evenly by 4, simply return the number.\n",
    "\n",
    "#Examples:\n",
    "#amplify(4) ➞ [1, 2, 3, 40]\n",
    "#amplify(3) ➞ [1, 2, 3]\n",
    "#amplify(25) ➞ [1, 2, 3, 40, 5, 6, 7, 80, 9, 10, 11, 120, 13, 14, 15, 160, 17, 18, 19, 200, 21, 22, 23, 240, 25]\n",
    "\n",
    "#Notes:\n",
    "#1.The given integer will always be equal to or greater than 1.\n",
    "#2.Include the number (see example above).\n",
    "#3.To perform this problem with its intended purpose, try doing it with list\n",
    "#ans1-\n",
    "def multiply(num):\n",
    "    l=[]\n",
    "    for i in range(1,num+1):\n",
    "        if i%4==0:\n",
    "            l.append(i*10)\n",
    "        else:\n",
    "            l.append(i)\n",
    "    return l\n",
    "print(f'amplify(4) ➞ {multiply(4)}')\n",
    "print(f'amplify(3) ➞ {multiply(3)}')\n",
    "print(f'amplify(25) ➞ {multiply(25)}')"
   ]
  },
  {
   "cell_type": "code",
   "execution_count": 3,
   "metadata": {},
   "outputs": [
    {
     "name": "stdout",
     "output_type": "stream",
     "text": [
      "unique([3, 3, 3, 7, 3, 3]) ➞ 3\n",
      "unique([0, 0, 0.77, 0, 0]) ➞ 0\n",
      "unique([0, 1, 1, 1, 1, 1, 1, 1]) ➞ 1\n"
     ]
    }
   ],
   "source": [
    "#2.Create a function that takes a list of numbers and return the number that's unique.\n",
    "\n",
    "#Examples:\n",
    "#unique([3, 3, 3, 7, 3, 3]) ➞ 7\n",
    "#unique([0, 0, 0.77, 0, 0]) ➞ 0.77\n",
    "#unique([0, 1, 1, 1, 1, 1, 1, 1]) ➞ 0\n",
    "\n",
    "#Notes:\n",
    "#Test cases will always have exactly one unique number while all others are the same.\n",
    "#ans2-\n",
    "def unique(list):\n",
    "    unique=list[0]\n",
    "    for i in range(len(list)):\n",
    "        if unique!=list[i]:\n",
    "            unique=\n",
    "            \n",
    "        \n",
    "print(f'unique([3, 3, 3, 7, 3, 3]) ➞ {unique([3, 3, 3, 7, 3, 3])}')\n",
    "print(f'unique([0, 0, 0.77, 0, 0]) ➞ {unique([0, 0, 0.77, 0, 0])}')\n",
    "print(f'unique([0, 1, 1, 1, 1, 1, 1, 1]) ➞ {unique([0, 1, 1, 1, 1, 1, 1, 1])}')"
   ]
  },
  {
   "cell_type": "code",
   "execution_count": 4,
   "metadata": {},
   "outputs": [
    {
     "name": "stdout",
     "output_type": "stream",
     "text": [
      "380.132711084365\n",
      "27.897342763877365\n"
     ]
    }
   ],
   "source": [
    "#3.Your task is to create a Circle constructor that creates a circle with a radius provided by an argument. \n",
    "#The circles constructed must have two getters getArea() (PIr^2) and getPerimeter() (2PI*r) which give both \n",
    "#respective areas and perimeter (circumference). For help with this class, I have provided you with a Rectangle \n",
    "#constructor which you can use as a base example ?\n",
    "#Examples:\n",
    "#circy = Circle(11)\n",
    "#circy.getArea()\n",
    "\n",
    "# Should return 380.132711084365\n",
    "#circy = Circle(4.44)\n",
    "#circy.getPerimeter()\n",
    "\n",
    "# Should return 27.897342763877365\n",
    "\n",
    "#Notes:\n",
    "#Round results up to the nearest integer.\n",
    "#ans3-\n",
    "import math\n",
    "class Circle:\n",
    "    def __init__(self,radius):\n",
    "        self.r=radius\n",
    "    def getArea(self):\n",
    "        Area=math.pi*(self.r**2)\n",
    "        print(Area)\n",
    "    def getPerimeter(self):\n",
    "        Perimeter=math.pi*2*self.r\n",
    "        print(Perimeter)\n",
    "circy=Circle(11)\n",
    "circy.getArea()\n",
    "\n",
    "circy=Circle(4.44)\n",
    "circy.getPerimeter()"
   ]
  },
  {
   "cell_type": "code",
   "execution_count": 19,
   "metadata": {},
   "outputs": [
    {
     "name": "stdout",
     "output_type": "stream",
     "text": [
      "sort_by_length([\"Google\", \"Apple\", \"Microsoft\"]) ➞ ['Apple', 'Google', 'Microsoft']\n",
      "sort_by_length([\"Leonardo\", \"Michelangelo\", \"Raphael\", \"Donatello\"]) ➞ ['Raphael', 'Leonardo', 'Donatello', 'Michelangelo']\n",
      "sort_by_length([\"Turing\", \"Einstein\", \"Jung\"]) ➞ ['Jung', 'Turing', 'Einstein']\n"
     ]
    }
   ],
   "source": [
    "#4.Create a function that takes a list of strings and return a list, sorted from shortest to longest.\n",
    "#Examples:\n",
    "#sort_by_length([\"Google\", \"Apple\", \"Microsoft\"])\n",
    "#➞ [\"Apple\", \"Google\", \"Microsoft\"]\n",
    "#sort_by_length([\"Leonardo\", \"Michelangelo\", \"Raphael\", \"Donatello\"])\n",
    "#➞ [\"Raphael\", \"Leonardo\", \"Donatello\", \"Michelangelo\"]\n",
    "#sort_by_length([\"Turing\", \"Einstein\", \"Jung\"])\n",
    "#➞ [\"Jung\", \"Turing\", \"Einstein\"]\n",
    "#ans4-\n",
    "def sort(list):\n",
    "    return sorted(list,key=len)\n",
    "print(f'sort_by_length([\"Google\", \"Apple\", \"Microsoft\"]) ➞ {sort([\"Google\",\"Apple\",\"Microsoft\"])}')\n",
    "print(f'sort_by_length([\"Leonardo\", \"Michelangelo\", \"Raphael\", \"Donatello\"]) ➞ {sort([\"Leonardo\",\"Michelangelo\",\"Raphael\",\"Donatello\"])}')\n",
    "print(f'sort_by_length([\"Turing\", \"Einstein\", \"Jung\"]) ➞ {sort([\"Turing\",\"Einstein\",\"Jung\"])}')"
   ]
  },
  {
   "cell_type": "code",
   "execution_count": 24,
   "metadata": {},
   "outputs": [
    {
     "name": "stdout",
     "output_type": "stream",
     "text": [
      "is_triplet(3, 4, 5) ➞ True\n",
      "is_triplet(3, 4, 5) ➞ True\n",
      "is_triplet(3, 4, 5) ➞ False\n"
     ]
    }
   ],
   "source": [
    "#5.Create a function that validates whether three given integers form a Pythagorean triplet. The sum of the \n",
    "#squares of the two smallest integers must equal the square of the largest number to be validated.\n",
    "#Examples:\n",
    "#`is_triplet(3, 4, 5) ➞ True\n",
    "\n",
    "# 3² + 4² = 25\n",
    "# 5² = 25\n",
    "#is_triplet(13, 5, 12) ➞ True\n",
    "\n",
    "# 5² + 12² = 169\n",
    "# 13² = 169\n",
    "#is_triplet(1, 2, 3) ➞ False\n",
    "\n",
    "# 1² + 2² = 5\n",
    "# 3² = 9`\n",
    "\n",
    "#Notes: Numbers may not be given in a sorted order.\n",
    "\n",
    "#In [5]:\n",
    "#ans5-\n",
    "def pythagorean(a,b,c):\n",
    "    if a>b and a>c:\n",
    "        if (a**2==b**2+c**2):\n",
    "            return True\n",
    "        else:\n",
    "            return False\n",
    "    elif b>c:\n",
    "        if (b**2==a**2+c**2):\n",
    "            return True\n",
    "        else:\n",
    "            return False\n",
    "    else:\n",
    "        if (c**2==a**2+b**2):\n",
    "            return True\n",
    "        else:\n",
    "            return False\n",
    "print(f'is_triplet(3, 4, 5) ➞ {pythagorean(3,4,5)}')\n",
    "print(f'is_triplet(3, 4, 5) ➞ {pythagorean(13,5,12)}')\n",
    "print(f'is_triplet(3, 4, 5) ➞ {pythagorean(1,2,3)}')"
   ]
  },
  {
   "cell_type": "code",
   "execution_count": null,
   "metadata": {},
   "outputs": [],
   "source": []
  },
  {
   "cell_type": "code",
   "execution_count": null,
   "metadata": {},
   "outputs": [],
   "source": []
  },
  {
   "cell_type": "code",
   "execution_count": null,
   "metadata": {},
   "outputs": [],
   "source": []
  }
 ],
 "metadata": {
  "kernelspec": {
   "display_name": "Python 3",
   "language": "python",
   "name": "python3"
  },
  "language_info": {
   "codemirror_mode": {
    "name": "ipython",
    "version": 3
   },
   "file_extension": ".py",
   "mimetype": "text/x-python",
   "name": "python",
   "nbconvert_exporter": "python",
   "pygments_lexer": "ipython3",
   "version": "3.8.3"
  }
 },
 "nbformat": 4,
 "nbformat_minor": 4
}
