{
 "cells": [
  {
   "cell_type": "code",
   "execution_count": 1,
   "id": "f29e9510",
   "metadata": {},
   "outputs": [],
   "source": [
    "#Assignment 14 Solutions"
   ]
  },
  {
   "cell_type": "code",
   "execution_count": 4,
   "id": "6a2e28ef",
   "metadata": {},
   "outputs": [
    {
     "name": "stdout",
     "output_type": "stream",
     "text": [
      "Enter the number = 100\n",
      "0 7 14 21 28 35 42 49 56 63 70 77 84 91 98 "
     ]
    }
   ],
   "source": [
    "#1.Define a class with a generator which can iterate the numbers, which are divisible by 7, between a given range 0 and n. ?\n",
    "#ans1-\n",
    "def gen(n):\n",
    "    for i in range(n):\n",
    "        if i%7==0:\n",
    "            yield i\n",
    "n=int(input(\"Enter the number = \"))\n",
    "gen(n)\n",
    "\n",
    "for i in gen(n):\n",
    "    print(i,end=\" \")"
   ]
  },
  {
   "cell_type": "code",
   "execution_count": 5,
   "id": "0e999db9",
   "metadata": {},
   "outputs": [
    {
     "name": "stdout",
     "output_type": "stream",
     "text": [
      "Enter the Input String: New to Python or choosing between Python 2 and Python 3? Read Python 2 or Python 3\n",
      "2:2 3:1 3?:1 New:1 Python:5 Read:1 and:1 between:1 choosing:1 or:2 to:1 "
     ]
    }
   ],
   "source": [
    "#2.Write a program to compute the frequency of the words from the input. The output should output after sorting the key \n",
    "#alphanumerically.\n",
    "#ans2-\n",
    "def checkFrequency():\n",
    "    in_string = input(\"Enter the Input String: \")\n",
    "    frequency = {}\n",
    "    for ele in in_string.split(\" \"):\n",
    "        if(frequency.get(ele) == None):\n",
    "            frequency[ele] = 1\n",
    "        else:\n",
    "            frequency[ele] += 1 \n",
    "    for ele in sorted(frequency):\n",
    "        print(f'{ele}:{frequency[ele]}',end=\" \")\n",
    "checkFrequency()"
   ]
  },
  {
   "cell_type": "code",
   "execution_count": 11,
   "id": "69806ad1",
   "metadata": {},
   "outputs": [
    {
     "name": "stdout",
     "output_type": "stream",
     "text": [
      "Male\n",
      "Female\n"
     ]
    }
   ],
   "source": [
    "#3.Define a class Person and its two child classes: Male and Female. All classes have a method \"getGender\" which can print \n",
    "#\"Male\" for Male class and \"Female\" for Female class. ?\n",
    "class person:\n",
    "    def getGender():\n",
    "        pass\n",
    "class Male(person):\n",
    "    def getGender():\n",
    "        print('Male')\n",
    "class Female(person):\n",
    "    def getGender():\n",
    "        print(\"Female\")\n",
    "Male.getGender()\n",
    "Female.getGender()"
   ]
  },
  {
   "cell_type": "code",
   "execution_count": 16,
   "id": "74162197",
   "metadata": {},
   "outputs": [
    {
     "name": "stdout",
     "output_type": "stream",
     "text": [
      "IPlayHockey\n",
      "IPlayFootball\n",
      "ILoveHockey\n",
      "ILoveFootball\n",
      "YouPlayHockey\n",
      "YouPlayFootball\n",
      "YouLoveHockey\n",
      "YouLoveFootball\n"
     ]
    }
   ],
   "source": [
    "#4.Please write a program to generate all sentences where subject is in [\"I\", \"You\"] and verb is in [\"Play\", \"Love\"] and \n",
    "#the object is in [\"Hockey\",\"Football\"] ?\n",
    "#ans4-\n",
    "def sentence(sub,verb,obj):\n",
    "    for i in sub:\n",
    "        for j in verb:\n",
    "            for k in obj:\n",
    "                print(i+j+k)\n",
    "sub= [\"I\", \"You\"]\n",
    "verb=[\"Play\", \"Love\"]\n",
    "obj=[\"Hockey\",\"Football\"]\n",
    "sentence(sub,verb,obj)"
   ]
  },
  {
   "cell_type": "code",
   "execution_count": 17,
   "id": "a35fc11f",
   "metadata": {},
   "outputs": [
    {
     "name": "stdout",
     "output_type": "stream",
     "text": [
      "7\n",
      "Input Element not in the list\n"
     ]
    }
   ],
   "source": [
    "#6.Please write a binary search function which searches an item in a sorted list. The function should return the index of\n",
    "#element to be searched in the list ?\n",
    "#ans6-\n",
    "sorted_list = [1,2,3,4,5,6,7,8,9,10]\n",
    "def binary_search(in_list,in_num):\n",
    "    low = 0\n",
    "    high = len(in_list)-1\n",
    "    while low <= high:\n",
    "        mid = high+low//2\n",
    "        if in_list[mid] < in_num:\n",
    "            low = mid+1\n",
    "        elif in_list[mid] > in_num:\n",
    "            high = mid-1\n",
    "        else:\n",
    "            return mid\n",
    "    else:\n",
    "        return 'Input Element not in the list'\n",
    "    \n",
    "print(binary_search(sorted_list,8))\n",
    "print(binary_search(sorted_list,100))"
   ]
  },
  {
   "cell_type": "code",
   "execution_count": null,
   "id": "b0f11091",
   "metadata": {},
   "outputs": [],
   "source": []
  }
 ],
 "metadata": {
  "kernelspec": {
   "display_name": "Python 3 (ipykernel)",
   "language": "python",
   "name": "python3"
  },
  "language_info": {
   "codemirror_mode": {
    "name": "ipython",
    "version": 3
   },
   "file_extension": ".py",
   "mimetype": "text/x-python",
   "name": "python",
   "nbconvert_exporter": "python",
   "pygments_lexer": "ipython3",
   "version": "3.9.7"
  }
 },
 "nbformat": 4,
 "nbformat_minor": 5
}
