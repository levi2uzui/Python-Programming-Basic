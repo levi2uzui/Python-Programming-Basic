{
 "cells": [
  {
   "cell_type": "code",
   "execution_count": 1,
   "id": "deaba285",
   "metadata": {},
   "outputs": [],
   "source": [
    "#Assignment 11 Solutions"
   ]
  },
  {
   "cell_type": "code",
   "execution_count": 6,
   "id": "7bbdf876",
   "metadata": {},
   "outputs": [
    {
     "name": "stdout",
     "output_type": "stream",
     "text": [
      "Enter the sentence = This is me Rumman Ahmad\n",
      "Enter the length of the string = 4\n"
     ]
    },
    {
     "data": {
      "text/plain": [
       "('Words which is greater than 4 is = ', ['Rumman', 'Ahmad'])"
      ]
     },
     "execution_count": 6,
     "metadata": {},
     "output_type": "execute_result"
    }
   ],
   "source": [
    "#1. Write a Python program to find words which are greater than given length k ?\n",
    "#ans1-\n",
    "def words(a,k):\n",
    "    l=a.split()\n",
    "    result=[]\n",
    "    for i in range(len(l)):\n",
    "        if len(l[i])>k:\n",
    "            result.append(l[i])\n",
    "    return f\"Words which is greater than {k} is = \", result    \n",
    "        \n",
    "str=input(\"Enter the sentence = \")\n",
    "k=int(input(\"Enter the length of the string = \"))\n",
    "words(str,k)"
   ]
  },
  {
   "cell_type": "code",
   "execution_count": 17,
   "id": "6f4ca4f0",
   "metadata": {},
   "outputs": [
    {
     "name": "stdout",
     "output_type": "stream",
     "text": [
      "Enter the string = Rumman\n",
      "Enter the index you want to remove =  2\n"
     ]
    },
    {
     "data": {
      "text/plain": [
       "('Result is=', 'Ruman')"
      ]
     },
     "execution_count": 17,
     "metadata": {},
     "output_type": "execute_result"
    }
   ],
   "source": [
    "#2. Write a Python program for removing i-th character from a string ?\n",
    "#ans2-\n",
    "def remove(a,N):\n",
    "    s=''\n",
    "    k=0\n",
    "    for i in range(0,len(a)):\n",
    "        if i!=N:\n",
    "            s=s+a[i]\n",
    "    return f\"Result is=\", s\n",
    "str= input(\"Enter the string = \")  \n",
    "N=int(input(\"Enter the index you want to remove =  \"))\n",
    "remove(str,N)"
   ]
  },
  {
   "cell_type": "code",
   "execution_count": 18,
   "id": "0e3a1fcd",
   "metadata": {},
   "outputs": [
    {
     "name": "stdout",
     "output_type": "stream",
     "text": [
      "Enter the sentence = This is me Rumman Ahmad\n",
      "Split String =  ['This', 'is', 'me', 'Rumman', 'Ahmad']\n",
      "Join String =  This is me Rumman Ahmad\n"
     ]
    }
   ],
   "source": [
    "#3. Write a Python program to split and join a string ?\n",
    "#ans3-\n",
    "def js(a):\n",
    "    print(\"Split String = \" ,a.split(\" \"))\n",
    "    print(\"Join String = \",\" \".join(a.split(\" \")))\n",
    "str=input(\"Enter the sentence = \")\n",
    "js(str)"
   ]
  },
  {
   "cell_type": "code",
   "execution_count": 20,
   "id": "c18c9e60",
   "metadata": {},
   "outputs": [
    {
     "name": "stdout",
     "output_type": "stream",
     "text": [
      "Enter a Number = 111000\n"
     ]
    },
    {
     "data": {
      "text/plain": [
       "(111000, 'is a Binary Number ')"
      ]
     },
     "execution_count": 20,
     "metadata": {},
     "output_type": "execute_result"
    }
   ],
   "source": [
    "#4. Write a Python to check if a given string is binary string or not ?\n",
    "#ans4-\n",
    "def check(a):\n",
    "    flag=False\n",
    "    for i in range(len(a)):\n",
    "        if a[i]=='0' or a[i]=='1':\n",
    "            flag=True\n",
    "            continue\n",
    "        else:\n",
    "            break\n",
    "    if flag==True:\n",
    "        return int(a),\"is a Binary Number \"\n",
    "    else:\n",
    "        return int(a),\" is not a Binary Number \"    \n",
    "str=input(\"Enter a Number = \")\n",
    "check(str)"
   ]
  },
  {
   "cell_type": "code",
   "execution_count": 21,
   "id": "22e79f61",
   "metadata": {},
   "outputs": [
    {
     "name": "stdout",
     "output_type": "stream",
     "text": [
      "Enter a Number = 231010\n"
     ]
    },
    {
     "data": {
      "text/plain": [
       "(231010, ' is not a Binary Number ')"
      ]
     },
     "execution_count": 21,
     "metadata": {},
     "output_type": "execute_result"
    }
   ],
   "source": [
    "str=input(\"Enter a Number = \")\n",
    "check(str)"
   ]
  },
  {
   "cell_type": "code",
   "execution_count": 3,
   "id": "4f62717a",
   "metadata": {},
   "outputs": [
    {
     "name": "stdout",
     "output_type": "stream",
     "text": [
      "Enter the String 1: rumman ahmad khan\n",
      "Enter the String 2: rumman ahmad hashmi\n",
      "{'hashmi', 'khan'}\n"
     ]
    }
   ],
   "source": [
    "#5. Write a Python program to find uncommon words from two Strings ?\n",
    "#ans5-\n",
    "def unCommonWords():\n",
    "    str1 = set(input(\"Enter the String 1: \").split(' '))\n",
    "    str2 = set(input(\"Enter the String 2: \").split(' '))\n",
    "    result = (str1.union(str2)).difference(str1.intersection(str2))\n",
    "    print(result)\n",
    "\n",
    "unCommonWords()"
   ]
  },
  {
   "cell_type": "code",
   "execution_count": 10,
   "id": "c58982c5",
   "metadata": {},
   "outputs": [
    {
     "name": "stdout",
     "output_type": "stream",
     "text": [
      "Enter the string = This is me Rumman ahmad\n"
     ]
    },
    {
     "data": {
      "text/plain": [
       "{' ', 'a', 'h', 'i', 'm', 's'}"
      ]
     },
     "execution_count": 10,
     "metadata": {},
     "output_type": "execute_result"
    }
   ],
   "source": [
    "#6. Write a Python to find all duplicate characters in string ?\n",
    "#ans6-\n",
    "def duplicate(str):\n",
    "    duplicate=[]\n",
    "    not_duplicate=[]\n",
    "    for i in range(0,len(str)):\n",
    "        if str[i] not in not_duplicate:\n",
    "            not_duplicate.append(str[i])\n",
    "        else:\n",
    "            duplicate.append(str[i])\n",
    "    return (set(duplicate))\n",
    "str=input(\"Enter the string = \")\n",
    "duplicate(str)"
   ]
  },
  {
   "cell_type": "code",
   "execution_count": 3,
   "id": "a4b76e65",
   "metadata": {},
   "outputs": [
    {
     "name": "stdout",
     "output_type": "stream",
     "text": [
      "Enter the StringThis is rummanahmad05@gmail.com\n",
      "String contains special characters \n"
     ]
    }
   ],
   "source": [
    "#7. Write a Python Program to check if a string contains any special character?\n",
    "#ans7-\n",
    "def special(str):\n",
    "    spl_chars = '[@_!#$%^&*()<>?/\\|}{~:]'\n",
    "    for i in  str:\n",
    "        if i in spl_chars:\n",
    "            print(f\"String contains special characters \")\n",
    "            break\n",
    "    else:\n",
    "        print(\"String does not contains any special characters\")\n",
    "str=input(\"Enter the String\")\n",
    "special(str)"
   ]
  },
  {
   "cell_type": "code",
   "execution_count": null,
   "id": "ef232813",
   "metadata": {},
   "outputs": [],
   "source": []
  },
  {
   "cell_type": "code",
   "execution_count": null,
   "id": "73c150f9",
   "metadata": {},
   "outputs": [],
   "source": []
  }
 ],
 "metadata": {
  "kernelspec": {
   "display_name": "Python 3 (ipykernel)",
   "language": "python",
   "name": "python3"
  },
  "language_info": {
   "codemirror_mode": {
    "name": "ipython",
    "version": 3
   },
   "file_extension": ".py",
   "mimetype": "text/x-python",
   "name": "python",
   "nbconvert_exporter": "python",
   "pygments_lexer": "ipython3",
   "version": "3.9.7"
  }
 },
 "nbformat": 4,
 "nbformat_minor": 5
}
