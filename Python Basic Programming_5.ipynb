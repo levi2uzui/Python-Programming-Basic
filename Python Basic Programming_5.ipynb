{
 "cells": [
  {
   "cell_type": "code",
   "execution_count": 1,
   "id": "18267281",
   "metadata": {},
   "outputs": [],
   "source": [
    "#Assignment 5 solution"
   ]
  },
  {
   "cell_type": "code",
   "execution_count": 13,
   "id": "ae608873",
   "metadata": {},
   "outputs": [
    {
     "name": "stdout",
     "output_type": "stream",
     "text": [
      "Enter the first number= 3\n",
      "Enter the second number= 9\n"
     ]
    },
    {
     "data": {
      "text/plain": [
       "('The LCM of 3 and 9 is', 9)"
      ]
     },
     "execution_count": 13,
     "metadata": {},
     "output_type": "execute_result"
    }
   ],
   "source": [
    "#1. Write a Python Program to find LCM ?\n",
    "#ans1-\n",
    "def lcm(a,b):\n",
    "    if a>b:\n",
    "        greater=a\n",
    "    else:\n",
    "        greater = b\n",
    "    while True:\n",
    "        if greater%a==0 and greater%b==0:\n",
    "            lcm=greater\n",
    "            break\n",
    "        else:\n",
    "            greater+=1\n",
    "    return \"The LCM of {} and {} is\".format(a,b), greater\n",
    "        \n",
    "a=int(input(\"Enter the first number= \"))\n",
    "b=int(input(\"Enter the second number= \"))\n",
    "lcm(a,b)"
   ]
  },
  {
   "cell_type": "code",
   "execution_count": 18,
   "id": "ebd382bb",
   "metadata": {},
   "outputs": [
    {
     "name": "stdout",
     "output_type": "stream",
     "text": [
      "Enter the first number= 6\n",
      "Enter the second number= 12\n"
     ]
    },
    {
     "data": {
      "text/plain": [
       "('The HCF of 6 and 12 is', 6)"
      ]
     },
     "execution_count": 18,
     "metadata": {},
     "output_type": "execute_result"
    }
   ],
   "source": [
    "#2. Write a Python Program to find HCF ?\n",
    "#ans2-\n",
    "def hcf(a,b):\n",
    "    if a<b:\n",
    "        smaller=a\n",
    "    elif a>b:\n",
    "        smaller=b\n",
    "    else:\n",
    "        result=a\n",
    "    result=1\n",
    "    for i in range(2,smaller+1):\n",
    "        if a%i==0 and b%i==0:\n",
    "            result=max(result,i)\n",
    "    return \"The HCF of {} and {} is\".format(a,b), result\n",
    "a=int(input(\"Enter the first number= \"))\n",
    "b=int(input(\"Enter the second number= \"))\n",
    "hcf(a,b)"
   ]
  },
  {
   "cell_type": "code",
   "execution_count": 19,
   "id": "8494a9bc",
   "metadata": {},
   "outputs": [
    {
     "name": "stdout",
     "output_type": "stream",
     "text": [
      "Enter a Number: 55252555\n",
      "Binary Number -> 0b11010010110001011001001011\n",
      "Octal Number -> 0o322613113\n",
      "Hexadecimal Number -> 0x34b164b\n"
     ]
    }
   ],
   "source": [
    "#3. Write a Python Program to Convert Decimal to Binary, Octal and Hexadecimal ?\n",
    "#ans3-\n",
    "def DecimalToOther():\n",
    "    num = int(input('Enter a Number: '))\n",
    "    print(f'Binary Number -> {bin(num)}')\n",
    "    print(f'Octal Number -> {oct(num)}')    \n",
    "    print(f'Hexadecimal Number -> {hex(num)}')    \n",
    "\n",
    "DecimalToOther()"
   ]
  },
  {
   "cell_type": "code",
   "execution_count": 20,
   "id": "f609aa48",
   "metadata": {},
   "outputs": [
    {
     "name": "stdout",
     "output_type": "stream",
     "text": [
      "Enter a Character: a\n",
      "Ascii Character of a is 97\n"
     ]
    }
   ],
   "source": [
    "#4. Write a Python Program to Find the ASCII value of a Character ?\n",
    "#ans4-\n",
    "def charToAscii():\n",
    "    char = input('Enter a Character: ')\n",
    "    if len(char) > 1:\n",
    "        print('Please Enter a Single Character')\n",
    "    else:\n",
    "        print(f'Ascii Character of {char} is {ord(char)}')\n",
    "\n",
    "charToAscii()"
   ]
  },
  {
   "cell_type": "code",
   "execution_count": 1,
   "id": "1d7ee9fb",
   "metadata": {},
   "outputs": [
    {
     "name": "stdout",
     "output_type": "stream",
     "text": [
      "Enter the number1 =5\n",
      "Enter the number2 =4\n",
      "Select the operation '+','-','x','/'=+\n",
      "('result=', 9)\n",
      "Enter the number1 =4\n",
      "Enter the number2 =2\n",
      "Select the operation '+','-','x','/'=-\n",
      "('result=', 2)\n",
      "Enter the number1 =2\n",
      "Enter the number2 =2\n",
      "Select the operation '+','-','x','/'=x\n",
      "('result=', 4)\n",
      "Enter the number1 =4\n",
      "Enter the number2 =2\n",
      "Select the operation '+','-','x','/'=/\n",
      "('result=', 2.0)\n"
     ]
    }
   ],
   "source": [
    "#5. Write a Python Program to Make a Simple Calculator with 4 Basic Mathematical operations ?\n",
    "#ans5-\n",
    "def calculator(a,b,choice):\n",
    "    if choice==\"+\":\n",
    "        return \"result=\",a+b\n",
    "    elif choice==\"-\":\n",
    "        return \"result=\",a-b\n",
    "    elif choice==\"x\":\n",
    "        return \"result=\",a*b\n",
    "    else:\n",
    "        return \"result=\",a/b\n",
    "for i in range(4):\n",
    "    a=int(input(\"Enter the number1 =\"))\n",
    "    b=int(input(\"Enter the number2 =\"))\n",
    "    choice=input(\"Select the operation '+','-','x','/'=\")  \n",
    "    print(calculator(a,b,choice))"
   ]
  },
  {
   "cell_type": "code",
   "execution_count": null,
   "id": "ac880bec",
   "metadata": {},
   "outputs": [],
   "source": []
  }
 ],
 "metadata": {
  "kernelspec": {
   "display_name": "Python 3 (ipykernel)",
   "language": "python",
   "name": "python3"
  },
  "language_info": {
   "codemirror_mode": {
    "name": "ipython",
    "version": 3
   },
   "file_extension": ".py",
   "mimetype": "text/x-python",
   "name": "python",
   "nbconvert_exporter": "python",
   "pygments_lexer": "ipython3",
   "version": "3.9.7"
  }
 },
 "nbformat": 4,
 "nbformat_minor": 5
}
