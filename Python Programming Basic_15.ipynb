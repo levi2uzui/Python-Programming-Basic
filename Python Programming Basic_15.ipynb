{
 "cells": [
  {
   "cell_type": "code",
   "execution_count": 1,
   "id": "6f25f55a",
   "metadata": {},
   "outputs": [],
   "source": [
    "#Assignment 15 Solutions"
   ]
  },
  {
   "cell_type": "code",
   "execution_count": 11,
   "id": "0fc936ea",
   "metadata": {},
   "outputs": [
    {
     "name": "stdout",
     "output_type": "stream",
     "text": [
      "Enter the number = 100\n",
      "Output is =  0,35,70\n"
     ]
    }
   ],
   "source": [
    "#1. Please write a program using generator to print the numbers which can be divisible by 5 and 7 between 0 and n in \n",
    "#comma separated form while n is input by console ?\n",
    "def div(num):\n",
    "    str=\"\"\n",
    "    for i in range(0,num):\n",
    "        if i%5==0 and i%7==0:\n",
    "            if i==0:\n",
    "                str=str+f'{i}'\n",
    "            else:\n",
    "                str=str+f',{i}'\n",
    "\n",
    "    print(\"Output is = \" ,str)\n",
    "num=int(input(\"Enter the number = \"))\n",
    "div(num)"
   ]
  },
  {
   "cell_type": "code",
   "execution_count": 18,
   "id": "5d33d30f",
   "metadata": {},
   "outputs": [
    {
     "name": "stdout",
     "output_type": "stream",
     "text": [
      "Enter the number = 10\n",
      "Output is = 0,2,4,6,8,10,"
     ]
    }
   ],
   "source": [
    "#2.Please write a program using generator to print the even numbers between 0 and n in comma separated form while n is \n",
    "#input by console ?\n",
    "#ans2-\n",
    "def even(num):\n",
    "    str=''\n",
    "    for i in range(0,num+1):\n",
    "        if i%2==0:\n",
    "            yield i\n",
    "num=int(input(\"Enter the number = \"))\n",
    "output=even(num)\n",
    "print(\"Output is = \",end='')\n",
    "for i in output:\n",
    "    print(i,end=',')"
   ]
  },
  {
   "cell_type": "code",
   "execution_count": 19,
   "id": "b2cfd812",
   "metadata": {},
   "outputs": [
    {
     "name": "stdout",
     "output_type": "stream",
     "text": [
      "[0, 1, 1, 2, 3, 5, 8, 13, 21, 34, 55, 89, 144, 233, 377, 610, 987, 1597, 2584, 4181]\n"
     ]
    }
   ],
   "source": [
    "#3.The Fibonacci Sequence is computed based on the following formula below, Please write a program using list comprehension \n",
    "#to print the Fibonacci Sequence in comma separated form with a given n input by console ?\n",
    "#ans3-\n",
    "def genFibonaci(in_num):\n",
    "    if in_num == 0:\n",
    "        return 0\n",
    "    elif in_num == 1:\n",
    "        return 1\n",
    "    else:\n",
    "        return genFibonaci(in_num-1)+genFibonaci(in_num-2)\n",
    "    \n",
    "print([genFibonaci(x) for x in range(20)])"
   ]
  },
  {
   "cell_type": "code",
   "execution_count": 23,
   "id": "052d3f8c",
   "metadata": {},
   "outputs": [
    {
     "name": "stdout",
     "output_type": "stream",
     "text": [
      "Enter the Email address = rummanahmad05@gmail.com\n",
      "The username of the Email is =  rummanahmad05\n"
     ]
    }
   ],
   "source": [
    "#4.Assuming that we have some email addresses in the \"username@companyname.com\" format, please write program to print the \n",
    "#user name of a given email address. Both user names and company names are composed of letters only ?\n",
    "#ans4-\n",
    "def email(str):\n",
    "    str1=str.split('@')\n",
    "    print(\"The username of the Email is = \", str1[0])\n",
    "str=input(\"Enter the Email address = \")\n",
    "email(str)"
   ]
  },
  {
   "cell_type": "code",
   "execution_count": 29,
   "id": "7f585773",
   "metadata": {},
   "outputs": [
    {
     "name": "stdout",
     "output_type": "stream",
     "text": [
      "('Area is = 100',)\n"
     ]
    }
   ],
   "source": [
    "#5.Define a class named Shape and its subclass Square. The Square class has an init function which takes a length as argument. \n",
    "#Both classes have a area function which can print the area of the shape where Shape's area is 0 by default.\n",
    "#ans5-\n",
    "class shape:\n",
    "    def area(self):\n",
    "        return 0\n",
    "class square(shape):\n",
    "    def __init__(self,length):\n",
    "        self.length=length\n",
    "    def area(self):\n",
    "        return f\"Area is = {self.length*self.length}\"\n",
    "s2=square(10)\n",
    "print( s2.area())"
   ]
  },
  {
   "cell_type": "code",
   "execution_count": null,
   "id": "a527b7d7",
   "metadata": {},
   "outputs": [],
   "source": []
  }
 ],
 "metadata": {
  "kernelspec": {
   "display_name": "Python 3 (ipykernel)",
   "language": "python",
   "name": "python3"
  },
  "language_info": {
   "codemirror_mode": {
    "name": "ipython",
    "version": 3
   },
   "file_extension": ".py",
   "mimetype": "text/x-python",
   "name": "python",
   "nbconvert_exporter": "python",
   "pygments_lexer": "ipython3",
   "version": "3.9.7"
  }
 },
 "nbformat": 4,
 "nbformat_minor": 5
}
