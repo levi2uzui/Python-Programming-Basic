{
 "cells": [
  {
   "cell_type": "code",
   "execution_count": 1,
   "id": "8eebfce0",
   "metadata": {},
   "outputs": [],
   "source": [
    "#Assignment 17 Solutions"
   ]
  },
  {
   "cell_type": "code",
   "execution_count": 14,
   "id": "ba262073",
   "metadata": {},
   "outputs": [
    {
     "name": "stdout",
     "output_type": "stream",
     "text": [
      "Enter the initial value = 1\n",
      "Enter the final value = 10\n",
      "Enter the divisible number = 20\n",
      "0\n",
      "Enter the initial value = 1\n",
      "Enter the final value = 10\n",
      "Enter the divisible number = 2\n",
      "30\n",
      "Enter the initial value = 1\n",
      "Enter the final value = 10\n",
      "Enter the divisible number = 3\n",
      "18\n"
     ]
    }
   ],
   "source": [
    "#1.Create a function that takes three arguments a, b, c and returns the sum of the numbers that are evenly divided by c \n",
    "#from the range a, b inclusive ?\n",
    "#ans1-\n",
    "def sum(a,b,c):\n",
    "    if c>b:\n",
    "        sum=0\n",
    "        return sum\n",
    "       \n",
    "    else:\n",
    "        sum=0\n",
    "        for i in range(a-1,b+1,c):\n",
    "            sum=sum+i\n",
    "        return sum\n",
    "for i in range(3):\n",
    "    a=int(input(\"Enter the initial value = \"))\n",
    "    b=int(input(\"Enter the final value = \"))\n",
    "    c=int(input(\"Enter the divisible number = \"))\n",
    "    print(sum(a,b,c))"
   ]
  },
  {
   "cell_type": "code",
   "execution_count": 4,
   "id": "45cec0bd",
   "metadata": {},
   "outputs": [
    {
     "name": "stdout",
     "output_type": "stream",
     "text": [
      "Enter the string = 3 < 7 < 11\n",
      "correct_signs(\"3 < 7 < 11\") ➞ True\n",
      "Enter the string = 13 > 44 > 33 > 1\n",
      "correct_signs(\"13 > 44 > 33 > 1\") ➞ False\n",
      "Enter the string = 1 < 2 < 6 < 9 > 3\n",
      "correct_signs(\"1 < 2 < 6 < 9 > 3\") ➞ True\n"
     ]
    }
   ],
   "source": [
    "#2.Create a function that returns True if a given inequality expression is correct and False otherwise ?\n",
    "#correct_signs(\"3 < 7 < 11\") ➞ True\n",
    "#correct_signs(\"13 > 44 > 33 > 1\") ➞ False\n",
    "#correct_signs(\"1 < 2 < 6 < 9 > 3\") ➞ True\n",
    "#ans2-\n",
    "def check(str):\n",
    "    condition=eval(str)\n",
    "    return f'correct_signs(\"{str}\") ➞ {condition}'\n",
    "for i in range(3):\n",
    "    str=input(\"Enter the string = \")\n",
    "    print(check(str))"
   ]
  },
  {
   "cell_type": "code",
   "execution_count": 13,
   "id": "6b495efa",
   "metadata": {},
   "outputs": [
    {
     "name": "stdout",
     "output_type": "stream",
     "text": [
      "Enter the string = the aardvark\n",
      "Enter the character = #\n",
      "replace_vowels(\"the aardvark\",\"#\") ➞ \"th# ##rdv#rk\"\n",
      "Enter the string = minnie mouse\n",
      "Enter the character = ?\n",
      "replace_vowels(\"minnie mouse\",\"?\") ➞ \"m?nn?? m??s?\"\n",
      "Enter the string = shakespeare\n",
      "Enter the character = *\n",
      "replace_vowels(\"shakespeare\",\"*\") ➞ \"sh*k*sp**r*\"\n"
     ]
    }
   ],
   "source": [
    "#3.Create a function that replaces all the vowels in a string with a specified character ?\n",
    "#replace_vowels(\"the aardvark\", \"#\") ➞ \"th# ##rdv#rk\"\n",
    "#replace_vowels(\"minnie mouse\", \"?\") ➞ \"m?nn?? m??s?\"\n",
    "#replace_vowels(\"shakespeare\", \"*\") ➞ \"shksp**r\"\n",
    "#ans3-\n",
    "def replace(str,char):\n",
    "    l=list(str)\n",
    "    vowels='aeiouAEIOU'\n",
    "    for i in range(len(l)):\n",
    "        if l[i] in vowels:\n",
    "            l[i]=char\n",
    "    str2=''.join(l)\n",
    "    return f'replace_vowels(\"{str}\",\"{char}\") ➞ \"{str2}\"'\n",
    "for i in range(3):\n",
    "    str=input(\"Enter the string = \")\n",
    "    char=input(\"Enter the character = \")\n",
    "    print(replace(str,char))\n",
    "            "
   ]
  },
  {
   "cell_type": "code",
   "execution_count": 11,
   "id": "3b2eb4c2",
   "metadata": {},
   "outputs": [
    {
     "name": "stdout",
     "output_type": "stream",
     "text": [
      "Enter the number = 5\n",
      "factorial(5) ➞ 120\n",
      "Enter the number = 3\n",
      "factorial(3) ➞ 6\n",
      "Enter the number = 1\n",
      "factorial(1) ➞ 1\n",
      "Enter the number = 0\n",
      "factorial(0) ➞ 1\n"
     ]
    }
   ],
   "source": [
    "#4.Write a function that calculates the factorial of a number recursively ?\n",
    "#Examples:\n",
    "#factorial(5) ➞ 120\n",
    "#factorial(3) ➞ 6\n",
    "#factorial(1) ➞ 1\n",
    "#factorial(0) ➞ 1\n",
    "#ans4-\n",
    "def fact(num):\n",
    "    if num==1:\n",
    "        return 1\n",
    "        result=num\n",
    "    elif num==0:\n",
    "        return 1\n",
    "    else:\n",
    "        return num*fact(num-1)\n",
    "for i in range(4):\n",
    "    num=int(input(\"Enter the number = \"))\n",
    "    result=fact(num)\n",
    "    print(f'factorial({num}) ➞ {result}')"
   ]
  },
  {
   "cell_type": "code",
   "execution_count": 14,
   "id": "714d5f43",
   "metadata": {},
   "outputs": [
    {
     "name": "stdout",
     "output_type": "stream",
     "text": [
      "Enter the first string = abcde\n",
      "Enter the second string = bcdef\n",
      "hamming_distance(\"abcde\",\"bcdef\") ➞ 5\n",
      "Enter the first string = abcde\n",
      "Enter the second string = abcde\n",
      "hamming_distance(\"abcde\",\"abcde\") ➞ 0\n",
      "Enter the first string = strong\n",
      "Enter the second string = strung\n",
      "hamming_distance(\"strong\",\"strung\") ➞ 1\n"
     ]
    }
   ],
   "source": [
    "#5.Hamming distance is the number of characters that differ between two strings ?\n",
    "#hamming_distance(\"abcde\", \"bcdef\") ➞ 5\n",
    "#hamming_distance(\"abcde\", \"abcde\") ➞ 0\n",
    "#hamming_distance(\"strong\", \"strung\") ➞ 1\n",
    "#ans5-\n",
    "def difference(str1,str2):\n",
    "    count=0\n",
    "    for i in range(0,len(str1)):\n",
    "        if str1[i]!=str2[i]:\n",
    "            count=count+1\n",
    "    return f'hamming_distance(\"{str1}\",\"{str2}\") ➞ {count}'\n",
    "for i in range(3):\n",
    "    str1=input(\"Enter the first string = \")\n",
    "    str2= input(\"Enter the second string = \")\n",
    "    print(difference(str1,str2))"
   ]
  },
  {
   "cell_type": "code",
   "execution_count": null,
   "id": "2bb0d01f",
   "metadata": {},
   "outputs": [],
   "source": []
  }
 ],
 "metadata": {
  "kernelspec": {
   "display_name": "Python 3 (ipykernel)",
   "language": "python",
   "name": "python3"
  },
  "language_info": {
   "codemirror_mode": {
    "name": "ipython",
    "version": 3
   },
   "file_extension": ".py",
   "mimetype": "text/x-python",
   "name": "python",
   "nbconvert_exporter": "python",
   "pygments_lexer": "ipython3",
   "version": "3.9.7"
  }
 },
 "nbformat": 4,
 "nbformat_minor": 5
}
