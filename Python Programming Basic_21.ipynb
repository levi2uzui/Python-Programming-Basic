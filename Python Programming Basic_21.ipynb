{
 "cells": [
  {
   "cell_type": "code",
   "execution_count": 1,
   "id": "39c9c655",
   "metadata": {},
   "outputs": [],
   "source": [
    "#Assignment 21 Solutions"
   ]
  },
  {
   "cell_type": "code",
   "execution_count": 18,
   "id": "9dabd944",
   "metadata": {},
   "outputs": [
    {
     "name": "stdout",
     "output_type": "stream",
     "text": [
      "next_in_line([5, 6, 7, 8, 9], 1) ➞ [6, 7, 8, 9, 1]\n",
      "next_in_line([7, 6, 3, 23, 17], 10) ➞ [6, 3, 23, 17, 10]\n",
      "next_in_line([1, 10, 20, 42], 6) ➞ [10, 20, 42, 6]\n",
      "next_in_line([], 6) ➞ \"No List has been selected\"\n"
     ]
    }
   ],
   "source": [
    "#1.Write a function that takes a list and a number as arguments. Add the number to the end of the list, then remove the first\n",
    "#element of the list. The function should then return the updated list.\n",
    "#Examples:\n",
    "#next_in_line([5, 6, 7, 8, 9], 1) ➞ [6, 7, 8, 9, 1]\n",
    "#next_in_line([7, 6, 3, 23, 17], 10) ➞ [6, 3, 23, 17, 10]\n",
    "#next_in_line([1, 10, 20, 42 ],6 ) ➞ [10, 20, 42, 6]\n",
    "#next_in_line([], 6) ➞ \"No list has been selected\"\n",
    "#ans1-\n",
    "def result(list,number):\n",
    "    if len(list)==0:\n",
    "        return '\"No List has been selected\"'\n",
    "    else:\n",
    "        list.remove(list[0])\n",
    "        list.append(number)\n",
    "        return list\n",
    "print(f'next_in_line([5, 6, 7, 8, 9], 1) ➞ {result([5, 6, 7, 8, 9], 1)}')\n",
    "print(f'next_in_line([7, 6, 3, 23, 17], 10) ➞ {result([7, 6, 3, 23, 17], 10)}')\n",
    "print(f'next_in_line([1, 10, 20, 42], 6) ➞ {result([1, 10, 20, 42], 6)}')\n",
    "print(f'next_in_line([], 6) ➞ {result([],6)}')"
   ]
  },
  {
   "cell_type": "code",
   "execution_count": 35,
   "id": "a400627f",
   "metadata": {},
   "outputs": [
    {
     "name": "stdout",
     "output_type": "stream",
     "text": [
      "65700\n",
      "62600\n"
     ]
    }
   ],
   "source": [
    "#2.Create the function that takes a list of dictionaries and returns the sum of people's budgets.\n",
    "#Examples:\n",
    "#get_budgets([\n",
    "#{ \"name\": \"John\", \"age\": 21, \"budget\": 23000 },\n",
    "#{ \"name\": \"Steve\", \"age\": 32, \"budget\": 40000 },\n",
    "#{ \"name\": \"Martin\", \"age\": 16, \"budget\": 2700 }\n",
    "#]) ➞ 65700\n",
    "\n",
    "#get_budgets([\n",
    "#{ \"name\": \"John\", \"age\": 21, \"budget\": 29000 },\n",
    "#{ \"name\": \"Steve\", \"age\": 32, \"budget\": 32000 },\n",
    "#{ \"name\": \"Martin\", \"age\": 16, \"budget\": 1600 }\n",
    "#]) ➞ 62600\n",
    "#ans2-\n",
    "def sum(list):\n",
    "    sum=0\n",
    "    for i in list:\n",
    "        sum=sum+i[\"budget\"]\n",
    "    print(sum)\n",
    "sum([\n",
    "{ \"name\": \"John\", \"age\": 21, \"budget\": 23000 },\n",
    "{ \"name\": \"Steve\", \"age\": 32, \"budget\": 40000 },\n",
    "{ \"name\": \"Martin\", \"age\": 16, \"budget\": 2700 }\n",
    "])\n",
    "\n",
    "sum([\n",
    "{ \"name\": \"John\", \"age\": 21, \"budget\": 29000 },\n",
    "{ \"name\": \"Steve\", \"age\": 32, \"budget\": 32000 },\n",
    "{ \"name\": \"Martin\", \"age\": 16, \"budget\": 1600 }\n",
    "])"
   ]
  },
  {
   "cell_type": "code",
   "execution_count": 39,
   "id": "b72e3b3e",
   "metadata": {},
   "outputs": [
    {
     "name": "stdout",
     "output_type": "stream",
     "text": [
      "alphabet_soup(\"hello\") ➞ ehllo\n",
      "alphabet_soup(\"edabit\") ➞ abdeit\n",
      "alphabet_soup(\"hacker\") ➞ acehkr\n",
      "alphabet_soup(\"geek\") ➞ eegk\n",
      "alphabet_soup(\"javascript\") ➞ aacijprstv\n"
     ]
    }
   ],
   "source": [
    "#3.Create a function that takes a string and returns a string with its letters in alphabetical order.\n",
    "#Examples:\n",
    "#alphabet_soup(\"hello\") ➞ \"ehllo\"\n",
    "#alphabet_soup(\"edabit\") ➞ \"abdeit\"\n",
    "#alphabet_soup(\"hacker\") ➞ \"acehkr\"\n",
    "#alphabet_soup(\"geek\") ➞ \"eegk\"\n",
    "#alphabet_soup(\"javascript\") ➞ \"aacijprstv\"\n",
    "#ans3-\n",
    "def sort(str):\n",
    "    str1=\"\"\n",
    "    list=sorted(str)\n",
    "    for i in range(len(list)):\n",
    "        str1=str1+list[i]\n",
    "    return str1\n",
    "print(f'alphabet_soup(\"hello\") ➞ {sort(\"hello\")}')\n",
    "print(f'alphabet_soup(\"edabit\") ➞ {sort(\"edabit\")}')\n",
    "print(f'alphabet_soup(\"hacker\") ➞ {sort(\"hacker\")}')\n",
    "print(f'alphabet_soup(\"geek\") ➞ {sort(\"geek\")}')\n",
    "print(f'alphabet_soup(\"javascript\") ➞ {sort(\"javascript\")}')"
   ]
  },
  {
   "cell_type": "code",
   "execution_count": 43,
   "id": "d25a0850",
   "metadata": {},
   "outputs": [
    {
     "name": "stdout",
     "output_type": "stream",
     "text": [
      "Output ➞ 105.00\n",
      "Output ➞ 15399.26\n",
      "Output ➞ 2007316.26\n"
     ]
    }
   ],
   "source": [
    "#4.What will be the value of your investment at the end of the 10 year period?\n",
    "#Create a function that accepts the principal p, the term in years t, the interest rate r, and the number of compounding \n",
    "#periods per year n. The function returns the value at the end of term rounded to the nearest cent.\n",
    "#For the example above:\n",
    "#compound_interest(10000, 10, 0.06, 12) ➞ 18193.97\n",
    "#Note that the interest rate is given as a decimal and n=12 because with monthly compounding there are 12 periods per year. \n",
    "#Compounding can also be done annually, quarterly, weekly, or daily.\n",
    "#Examples:\n",
    "#compound_interest(100, 1, 0.05, 1) ➞ 105.0\n",
    "#compound_interest(3500, 15, 0.1, 4) ➞ 15399.26\n",
    "#compound_interest(100000, 20, 0.15, 365) ➞ 2007316.26\n",
    "#ans4-\n",
    "def compound_interest(principal,years,roi,cp):\n",
    "    ci = principal*(1+(roi/cp))**(cp*years)\n",
    "    print(f'Output ➞ {ci:.2f}')\n",
    "\n",
    "compound_interest(100, 1, 0.05, 1)\n",
    "compound_interest(3500, 15, 0.1, 4)\n",
    "compound_interest(100000, 20, 0.15, 365) "
   ]
  },
  {
   "cell_type": "code",
   "execution_count": 45,
   "id": "4a099e78",
   "metadata": {},
   "outputs": [
    {
     "name": "stdout",
     "output_type": "stream",
     "text": [
      "return_only_integer([9, 2, \"space\", \"car\", \"lion\", 16]) ➞ [9, 2, 16]\n",
      "return_only_integer([\"hello\", 81, \"basketball\", 123, \"fox\"]) ➞ [81, 123]\n",
      "return_only_integer([10, \"121\", 56, 20, \"car\", 3, \"lion\"]) ➞ [10, 56, 20, 3]\n",
      "return_only_integer([\"String\", True, 3.3, 1]) ➞ [1]\n"
     ]
    }
   ],
   "source": [
    "#5.Write a function that takes a list of elements and returns only the integers.\n",
    "#Examples:\n",
    "#return_only_integer([9, 2, \"space\", \"car\", \"lion\", 16]) ➞ [9, 2, 16]\n",
    "#return_only_integer([\"hello\", 81, \"basketball\", 123, \"fox\"]) ➞ [81, 123]\n",
    "#return_only_integer([10, \"121\", 56, 20, \"car\", 3, \"lion\"]) ➞ [10, 56, 20,3]\n",
    "#return_only_integer([\"String\", True, 3.3, 1]) ➞ [1]\n",
    "#ans5-\n",
    "def result(list):\n",
    "    l=[]\n",
    "    for i in range(len(list)):\n",
    "        if type(list[i])==int:\n",
    "            l.append(list[i])\n",
    "    return l\n",
    "print(f'return_only_integer([9, 2, \"space\", \"car\", \"lion\", 16]) ➞ {result([9, 2, \"space\", \"car\", \"lion\", 16])}')\n",
    "print(f'return_only_integer([\"hello\", 81, \"basketball\", 123, \"fox\"]) ➞ {result([\"hello\", 81, \"basketball\", 123, \"fox\"])}')\n",
    "print(f'return_only_integer([10, \"121\", 56, 20, \"car\", 3, \"lion\"]) ➞ {result([10, \"121\", 56, 20, \"car\", 3, \"lion\"])}')\n",
    "print(f'return_only_integer([\"String\", True, 3.3, 1]) ➞ {result([\"String\", True, 3.3, 1])}')"
   ]
  },
  {
   "cell_type": "code",
   "execution_count": null,
   "id": "bed8f68e",
   "metadata": {},
   "outputs": [],
   "source": []
  }
 ],
 "metadata": {
  "kernelspec": {
   "display_name": "Python 3 (ipykernel)",
   "language": "python",
   "name": "python3"
  },
  "language_info": {
   "codemirror_mode": {
    "name": "ipython",
    "version": 3
   },
   "file_extension": ".py",
   "mimetype": "text/x-python",
   "name": "python",
   "nbconvert_exporter": "python",
   "pygments_lexer": "ipython3",
   "version": "3.9.7"
  }
 },
 "nbformat": 4,
 "nbformat_minor": 5
}
