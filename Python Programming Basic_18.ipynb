{
 "cells": [
  {
   "cell_type": "code",
   "execution_count": 1,
   "id": "fc9279aa",
   "metadata": {},
   "outputs": [],
   "source": [
    "#Assignment 18 Solutions"
   ]
  },
  {
   "cell_type": "code",
   "execution_count": 2,
   "id": "abd39fab",
   "metadata": {},
   "outputs": [
    {
     "name": "stdout",
     "output_type": "stream",
     "text": [
      "filter_list([1, 2, \"a\", \"b\"]) ➞ [1, 2]\n",
      "filter_list([1, 2, \"a\", \"b\"]) ➞ [1, 0, 15]\n",
      "filter_list([1, 2, \"a\", \"b\"]) ➞ [1, 2, 123]\n"
     ]
    }
   ],
   "source": [
    "#1.Create a function that takes a list of non-negative integers and strings and return a new list without the strings ?\n",
    "#filter_list([1, 2, \"a\", \"b\"]) ➞ [1, 2]\n",
    "#filter_list([1, \"a\", \"b\", 0, 15]) ➞ [1, 0, 15]\n",
    "#filter_list([1, 2, \"aasf\", \"1\", \"123\", 123]) ➞ [1, 2, 123]\n",
    "#ans1-\n",
    "def filter(list):\n",
    "    list2=[]\n",
    "    for i in range(len(list)):\n",
    "        if type(list[i])==int:\n",
    "            list2.append(list[i])\n",
    "    return list2\n",
    "list=[1, 2, \"a\", \"b\"]\n",
    "print(f'filter_list([1, 2, \"a\", \"b\"]) ➞ {filter(list)}')\n",
    "list=[1, \"a\", \"b\", 0, 15]\n",
    "print(f'filter_list([1, 2, \"a\", \"b\"]) ➞ {filter(list)}')\n",
    "list=[1, 2, \"aasf\", \"1\", \"123\", 123]\n",
    "print(f'filter_list([1, 2, \"a\", \"b\"]) ➞ {filter(list)}')"
   ]
  },
  {
   "cell_type": "code",
   "execution_count": 9,
   "id": "f0e8bede",
   "metadata": {},
   "outputs": [
    {
     "name": "stdout",
     "output_type": "stream",
     "text": [
      "Enter the string = Hello World\n",
      "reverse(\"Hello World\") ➞ \"DLROw OLLEh\"\n",
      "Enter the string = ReVeRsE\n",
      "reverse(\"ReVeRsE\") ➞ \"eSrEvEr\"\n",
      "Enter the string = Radar\n",
      "reverse(\"Radar\") ➞ \"RADAr\"\n"
     ]
    }
   ],
   "source": [
    "#2. The \"Reverser\" takes a string as input and returns that string in reverse order, with the opposite case ?\n",
    "#Examples:\n",
    "#reverse(\"Hello World\") ➞ \"DLROw OLLEh\"\n",
    "#reverse(\"ReVeRsE\") ➞ \"eSrEvEr\"\n",
    "#reverse(\"Radar\") ➞ \"RADAr\"\n",
    "#ans2-\n",
    "def reverse(str):\n",
    "    rev=str[::-1].swapcase()\n",
    "    return f'reverse(\"{str}\") ➞ \"{rev}\"'\n",
    "for i in range(3):\n",
    "    str=input(\"Enter the string = \")\n",
    "    print(reverse(str))"
   ]
  },
  {
   "cell_type": "code",
   "execution_count": 12,
   "id": "941bcc2b",
   "metadata": {},
   "outputs": [
    {
     "name": "stdout",
     "output_type": "stream",
     "text": [
      "(first) ➞ outputs 1\n",
      "(middle) ➞ outputs [2, 3, 4, 5]\n",
      "(last) ➞ outputs 6\n"
     ]
    }
   ],
   "source": [
    "#3.You can assign variables from lists like this:\n",
    "#lst = [1, 2, 3, 4, 5, 6]\n",
    "#first = lst[0]\n",
    "#middle = lst[1:-1]\n",
    "#last = lst[-1]\n",
    "#print(first) ➞ outputs 1\n",
    "#print(middle) ➞ outputs [2, 3, 4, 5]\n",
    "#print(last) ➞ outputs 6\n",
    "#ans3-\n",
    "lst = [1, 2, 3, 4, 5, 6]\n",
    "first = lst[0]\n",
    "middle = lst[1:-1]\n",
    "last = lst[-1]\n",
    "print(f'(first) ➞ outputs {first}')\n",
    "print(f'(middle) ➞ outputs {middle}')\n",
    "print(f'(last) ➞ outputs {last}')"
   ]
  },
  {
   "cell_type": "code",
   "execution_count": 22,
   "id": "78e8c3ce",
   "metadata": {},
   "outputs": [
    {
     "name": "stdout",
     "output_type": "stream",
     "text": [
      "move_to_end([1, 3, 2, 4, 4, 1], 1) ➞ [3, 2, 4, 4, 1, 1]\n",
      "move_to_end([7, 8, 9, 1, 2, 3, 4], 9) ➞ [7, 8, 1, 2, 3, 4, 9]\n",
      "move_to_end([\"a\", \"a\", \"a\", \"b\"], \"a\") ➞ ['b', 'a', 'a', 'a']\n"
     ]
    }
   ],
   "source": [
    "#5.Write a function that moves all elements of one type to the end of the list.\n",
    "#Examples:\n",
    "#move_to_end([1, 3, 2, 4, 4, 1], 1) ➞ [3, 2, 4, 4, 1, 1]\n",
    "\n",
    "# Move all the 1s to the end of the array.    \n",
    "#move_to_end([7, 8, 9, 1, 2, 3, 4], 9) ➞ [7, 8, 1, 2, 3, 4, 9]\n",
    "#move_to_end([\"a\", \"a\", \"a\", \"b\"], \"a\") ➞ [\"b\", \"a\", \"a\", \"a\"]\n",
    "#ans5-\n",
    "def move_to_end(list,num):\n",
    "    first_end = []\n",
    "    second_end = []\n",
    "    for ele in list:\n",
    "        if ele == num:\n",
    "            second_end.append(ele)\n",
    "        else:\n",
    "            first_end.append(ele)\n",
    "    first_end.extend(second_end)\n",
    "    return first_end\n",
    "    \n",
    "print(f'move_to_end([1, 3, 2, 4, 4, 1], 1) ➞ {move_to_end([1, 3, 2, 4, 4, 1], 1)}')\n",
    "print(f'move_to_end([7, 8, 9, 1, 2, 3, 4], 9) ➞ {move_to_end([7, 8, 9, 1, 2, 3, 4], 9)}')\n",
    "print(f'move_to_end([\"a\", \"a\", \"a\", \"b\"], \"a\") ➞ {move_to_end([\"a\", \"a\", \"a\", \"b\"], \"a\")}')"
   ]
  },
  {
   "cell_type": "code",
   "execution_count": null,
   "id": "595ef04f",
   "metadata": {},
   "outputs": [],
   "source": []
  },
  {
   "cell_type": "code",
   "execution_count": null,
   "id": "f048b3f6",
   "metadata": {},
   "outputs": [],
   "source": []
  },
  {
   "cell_type": "code",
   "execution_count": null,
   "id": "85c558cb",
   "metadata": {},
   "outputs": [],
   "source": []
  }
 ],
 "metadata": {
  "kernelspec": {
   "display_name": "Python 3 (ipykernel)",
   "language": "python",
   "name": "python3"
  },
  "language_info": {
   "codemirror_mode": {
    "name": "ipython",
    "version": 3
   },
   "file_extension": ".py",
   "mimetype": "text/x-python",
   "name": "python",
   "nbconvert_exporter": "python",
   "pygments_lexer": "ipython3",
   "version": "3.9.7"
  }
 },
 "nbformat": 4,
 "nbformat_minor": 5
}
