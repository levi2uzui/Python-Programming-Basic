{
 "cells": [
  {
   "cell_type": "code",
   "execution_count": 1,
   "id": "976ea2c7",
   "metadata": {},
   "outputs": [],
   "source": [
    "#Assignment 6 Solutions"
   ]
  },
  {
   "cell_type": "code",
   "execution_count": 4,
   "id": "2ad0d878",
   "metadata": {},
   "outputs": [
    {
     "name": "stdout",
     "output_type": "stream",
     "text": [
      "Enter the value upto which series required = 10\n",
      "1 1 2 3 5 8 13 21 34 55 89 "
     ]
    }
   ],
   "source": [
    "#1. Write a Python Program to Display Fibonacci Sequence using Recursion ?\n",
    "#ans1-\n",
    "def fib(a,b,n):\n",
    "    if n==0:\n",
    "        return 1\n",
    "    else:\n",
    "        print(a,end=\" \")\n",
    "        fib(b,a+b,n-1)\n",
    "n=int(input(\"Enter the value upto which series required = \"))\n",
    "fib(1,1,n+1)"
   ]
  },
  {
   "cell_type": "code",
   "execution_count": 26,
   "id": "0bab426e",
   "metadata": {},
   "outputs": [
    {
     "name": "stdout",
     "output_type": "stream",
     "text": [
      "Enter the number whose factorial is required =5\n"
     ]
    },
    {
     "data": {
      "text/plain": [
       "120"
      ]
     },
     "execution_count": 26,
     "metadata": {},
     "output_type": "execute_result"
    }
   ],
   "source": [
    "#2. Write a Python Program to Find Factorial of a Number using Recursion ?\n",
    "#ans2-\n",
    "def fact(n):\n",
    "    if n<1:\n",
    "        return 1\n",
    "    else:\n",
    "        return  n*fact(n-1)\n",
    "n=int(input(\"Enter the number whose factorial is required =\"))\n",
    "fact(n)"
   ]
  },
  {
   "cell_type": "code",
   "execution_count": 4,
   "id": "904ea165",
   "metadata": {},
   "outputs": [
    {
     "name": "stdout",
     "output_type": "stream",
     "text": [
      "Enter the weight (kgs) = 70\n",
      "Enter the height(mtrs) = 1.8\n"
     ]
    },
    {
     "data": {
      "text/plain": [
       "('BMI of the data is =', 21.604938271604937)"
      ]
     },
     "execution_count": 4,
     "metadata": {},
     "output_type": "execute_result"
    }
   ],
   "source": [
    "#3. Write a Python Program to Calculate your Body Mass Index ?\n",
    "#ans-\n",
    "def bmi(weight,height):\n",
    "    return \"BMI of the data is =\", weight/pow(height,2)\n",
    "weight=float(input(\"Enter the weight (kgs) = \"))\n",
    "height=float(input(\"Enter the height(mtrs) = \"))\n",
    "bmi(weight,height)"
   ]
  },
  {
   "cell_type": "code",
   "execution_count": 7,
   "id": "ca45a56f",
   "metadata": {},
   "outputs": [
    {
     "name": "stdout",
     "output_type": "stream",
     "text": [
      "Enter the number = 3\n"
     ]
    },
    {
     "data": {
      "text/plain": [
       "('The natural Logarith of 3 is = ', 1.0986122886681098)"
      ]
     },
     "execution_count": 7,
     "metadata": {},
     "output_type": "execute_result"
    }
   ],
   "source": [
    "#4. Write a Python Program to Calculate the Natural Logarithm of any Number ?\n",
    "#ans4-\n",
    "import math\n",
    "def log(num):\n",
    "    return f\"The natural Logarith of {num} is = \", math.log(num)\n",
    "num=int(input(\"Enter the number = \"))\n",
    "log(num)"
   ]
  },
  {
   "cell_type": "code",
   "execution_count": 10,
   "id": "0605a8ca",
   "metadata": {},
   "outputs": [
    {
     "name": "stdout",
     "output_type": "stream",
     "text": [
      "Enter the no. of terms =5\n"
     ]
    },
    {
     "data": {
      "text/plain": [
       "('result=', 225)"
      ]
     },
     "execution_count": 10,
     "metadata": {},
     "output_type": "execute_result"
    }
   ],
   "source": [
    "#5. Write a Python Program for Cube sum of first n Natural Numbers ?\n",
    "#ans5-\n",
    "def cube(num,sum):\n",
    "    for i in range(num+1):\n",
    "        sum=sum+pow(i,3)\n",
    "    return \"result=\", sum\n",
    "num=int(input(\"Enter the no. of terms =\"))\n",
    "cube(num,0)"
   ]
  },
  {
   "cell_type": "code",
   "execution_count": null,
   "id": "60e5f9cf",
   "metadata": {},
   "outputs": [],
   "source": []
  }
 ],
 "metadata": {
  "kernelspec": {
   "display_name": "Python 3 (ipykernel)",
   "language": "python",
   "name": "python3"
  },
  "language_info": {
   "codemirror_mode": {
    "name": "ipython",
    "version": 3
   },
   "file_extension": ".py",
   "mimetype": "text/x-python",
   "name": "python",
   "nbconvert_exporter": "python",
   "pygments_lexer": "ipython3",
   "version": "3.9.7"
  }
 },
 "nbformat": 4,
 "nbformat_minor": 5
}
