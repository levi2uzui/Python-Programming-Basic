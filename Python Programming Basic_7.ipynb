{
 "cells": [
  {
   "cell_type": "code",
   "execution_count": 1,
   "id": "698cc0ed",
   "metadata": {},
   "outputs": [],
   "source": [
    "#Assignment 7 Solutions"
   ]
  },
  {
   "cell_type": "code",
   "execution_count": 18,
   "id": "a48fcf2e",
   "metadata": {},
   "outputs": [
    {
     "name": "stdout",
     "output_type": "stream",
     "text": [
      "Enter the length of the list = 5\n",
      "Enter the data =\n",
      "1\n",
      "2\n",
      "3\n",
      "4\n",
      "5\n",
      "Array is = [1, 2, 3, 4, 5]\n"
     ]
    },
    {
     "data": {
      "text/plain": [
       "('Sum of the array is =', 15)"
      ]
     },
     "execution_count": 18,
     "metadata": {},
     "output_type": "execute_result"
    }
   ],
   "source": [
    "#1. Write a Python Program to find sum of Array ?\n",
    "#ans1-\n",
    "def array(a,sum):\n",
    "    for i in a:\n",
    "        sum=sum+i\n",
    "    return \"Sum of the array is =\", sum\n",
    "        \n",
    "l=[]\n",
    "n=int(input(\"Enter the length of the list = \"))\n",
    "print(\"Enter the data =\")\n",
    "for i in range(n):\n",
    "    data=int(input())\n",
    "    l.append(data)\n",
    "print(\"Array is =\" ,l)\n",
    "array(l,0)"
   ]
  },
  {
   "cell_type": "code",
   "execution_count": 1,
   "id": "9943f212",
   "metadata": {},
   "outputs": [
    {
     "name": "stdout",
     "output_type": "stream",
     "text": [
      "Enter the length of the array = 5\n",
      "Enter the data=\n",
      "10\n",
      "20\n",
      "50\n",
      "30\n",
      "40\n",
      "Array is = [10, 20, 50, 30, 40]\n"
     ]
    },
    {
     "data": {
      "text/plain": [
       "('Largest element in the array is =', 50)"
      ]
     },
     "execution_count": 1,
     "metadata": {},
     "output_type": "execute_result"
    }
   ],
   "source": [
    "#2. Write a Python Program to find Largest element in an Array ?\n",
    "#ans2-\n",
    "def max(a):\n",
    "    max=a[0]\n",
    "    for i in range(1,len(a)):\n",
    "        if max<a[i]:\n",
    "            max=a[i]\n",
    "    return \"Largest element in the array is =\", max\n",
    "n=int(input(\"Enter the length of the array = \"))\n",
    "l=[]\n",
    "print(\"Enter the data=\")\n",
    "for i in range(n):\n",
    "    data=int(input())\n",
    "    l.append(data)\n",
    "print(\"Array is =\",l)\n",
    "max(l)       "
   ]
  },
  {
   "cell_type": "code",
   "execution_count": 4,
   "id": "44b41955",
   "metadata": {},
   "outputs": [
    {
     "name": "stdout",
     "output_type": "stream",
     "text": [
      "Enter the length of the Array =5\n",
      "Enter the data =\n",
      "1\n",
      "2\n",
      "3\n",
      "4\n",
      "5\n",
      "Array is = [1, 2, 3, 4, 5]\n"
     ]
    },
    {
     "data": {
      "text/plain": [
       "('Reverse of the array is =', [5, 4, 3, 2, 1])"
      ]
     },
     "execution_count": 4,
     "metadata": {},
     "output_type": "execute_result"
    }
   ],
   "source": [
    "#3. Write a Python Program for array rotation ?\n",
    "#ans3-\n",
    "def reverse(a):\n",
    "    return \"Reverse of the array is =\", a[::-1]\n",
    "n=int(input(\"Enter the length of the Array =\"))\n",
    "l=[]\n",
    "print(\"Enter the data =\")\n",
    "for i in range(n):\n",
    "    data=int(input())\n",
    "    l.append(data)\n",
    "print(\"Array is =\",l)\n",
    "reverse(l)"
   ]
  },
  {
   "cell_type": "code",
   "execution_count": 7,
   "id": "bc37179c",
   "metadata": {},
   "outputs": [
    {
     "name": "stdout",
     "output_type": "stream",
     "text": [
      "Enter the length of the array =5\n",
      "Enter the data =\n",
      "1\n",
      "2\n",
      "3\n",
      "4\n",
      "5\n",
      "Array is =  [1, 2, 3, 4, 5]\n"
     ]
    },
    {
     "data": {
      "text/plain": [
       "('Sum of the first and last element in the array is =', 6)"
      ]
     },
     "execution_count": 7,
     "metadata": {},
     "output_type": "execute_result"
    }
   ],
   "source": [
    "#4. Write a Python Program to Split the array and add the first part to the end ?\n",
    "#ans4-\n",
    "def sum(a):\n",
    "    return \"Sum of the first and last element in the array is =\", a[0]+a[-1]\n",
    "n=int(input('Enter the length of the array ='))\n",
    "l=[]\n",
    "print(\"Enter the data =\")\n",
    "for i in range(n):\n",
    "    data=int(input())\n",
    "    l.append(data)\n",
    "print(\"Array is = \",l)\n",
    "sum(l)"
   ]
  },
  {
   "cell_type": "code",
   "execution_count": 18,
   "id": "85c422c0",
   "metadata": {},
   "outputs": [
    {
     "name": "stdout",
     "output_type": "stream",
     "text": [
      "Enter the length of the array = 5\n",
      "Enter the data =\n",
      "1\n",
      "2\n",
      "3\n",
      "4\n",
      "5\n",
      "Array is = [1, 2, 3, 4, 5]\n"
     ]
    },
    {
     "data": {
      "text/plain": [
       "'Array is Monotonic'"
      ]
     },
     "execution_count": 18,
     "metadata": {},
     "output_type": "execute_result"
    }
   ],
   "source": [
    "#5. Write a Python Program to check if given array is Monotonic ?\n",
    "#ans5-\n",
    "def monotonic(a):\n",
    "    minf=a[0]\n",
    "    minl=a[-1]\n",
    "    flag1=False\n",
    "    flag2=False\n",
    "    for i in range(0,len(a)-1):\n",
    "        if minf<=a[i]:\n",
    "            flag1=True\n",
    "        else:\n",
    "            flag1=False\n",
    "            break\n",
    "    for i in range(0,len(a)-1):\n",
    "        if minl<=a[i]:\n",
    "            flag2=True\n",
    "        else:\n",
    "            flag2=False\n",
    "            break\n",
    "    if flag1==True or flag2 == True:\n",
    "        return \"Array is Monotonic\"\n",
    "    else:\n",
    "        return \"Array is not a Monotonic\"\n",
    "n=int(input(\"Enter the length of the array = \"))\n",
    "l=[]\n",
    "print(\"Enter the data =\")\n",
    "for i in range(n):\n",
    "    data = int(input())\n",
    "    l.append(data)\n",
    "print(\"Array is =\",l)\n",
    "monotonic(l)"
   ]
  },
  {
   "cell_type": "markdown",
   "id": "3607dff6",
   "metadata": {},
   "source": []
  },
  {
   "cell_type": "code",
   "execution_count": null,
   "id": "62f11a3b",
   "metadata": {},
   "outputs": [],
   "source": []
  },
  {
   "cell_type": "code",
   "execution_count": null,
   "id": "d60191d2",
   "metadata": {},
   "outputs": [],
   "source": []
  }
 ],
 "metadata": {
  "kernelspec": {
   "display_name": "Python 3 (ipykernel)",
   "language": "python",
   "name": "python3"
  },
  "language_info": {
   "codemirror_mode": {
    "name": "ipython",
    "version": 3
   },
   "file_extension": ".py",
   "mimetype": "text/x-python",
   "name": "python",
   "nbconvert_exporter": "python",
   "pygments_lexer": "ipython3",
   "version": "3.9.7"
  }
 },
 "nbformat": 4,
 "nbformat_minor": 5
}
