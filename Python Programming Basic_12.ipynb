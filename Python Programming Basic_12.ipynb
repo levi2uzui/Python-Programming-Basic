{
 "cells": [
  {
   "cell_type": "code",
   "execution_count": 1,
   "id": "46696781",
   "metadata": {},
   "outputs": [],
   "source": [
    "#Assignment 12 Solutions"
   ]
  },
  {
   "cell_type": "code",
   "execution_count": 11,
   "id": "e446bb4a",
   "metadata": {},
   "outputs": [
    {
     "name": "stdout",
     "output_type": "stream",
     "text": [
      "Dictionary values are =  dict_values(['rumman', 'ahmad', 'kartik', 'ahmad'])\n",
      "Dictionary unique value are =  ['ahmad', 'rumman', 'kartik']\n"
     ]
    }
   ],
   "source": [
    "#1.Write a Python program to Extract Unique values dictionary values?\n",
    "#ans1-\n",
    "def unique(dict):\n",
    "    print(\"Dictionary values are = \", dict.values())\n",
    "    print(\"Dictionary unique value are = \",list(set(dict.values())))\n",
    "dict={\n",
    "    1:'rumman',\n",
    "    2:'ahmad',\n",
    "    3:'kartik',\n",
    "    4:'ahmad'\n",
    "}\n",
    "unique(dict)"
   ]
  },
  {
   "cell_type": "code",
   "execution_count": 28,
   "id": "7d9b9368",
   "metadata": {},
   "outputs": [
    {
     "data": {
      "text/plain": [
       "'Sum of the all the items in  the dictionary is = 29'"
      ]
     },
     "execution_count": 28,
     "metadata": {},
     "output_type": "execute_result"
    }
   ],
   "source": [
    "#2.Write a Python program to find the sum of all items in a dictionary?\n",
    "#ans2-\n",
    "def sum(dict):\n",
    "    sum=0\n",
    "    for i in dict:\n",
    "        sum=sum+dict[i]\n",
    "    return f\"Sum of the all the items in  the dictionary is = {sum}\"\n",
    "    \n",
    "dict={\n",
    "    'ghee':5,\n",
    "    'aata':20,\n",
    "    'daal':4\n",
    "}\n",
    "sum(dict)"
   ]
  },
  {
   "cell_type": "code",
   "execution_count": 31,
   "id": "7c72e622",
   "metadata": {},
   "outputs": [
    {
     "data": {
      "text/plain": [
       "\"Merge dict1 and dict2 = {'Name': 'Rumman', 'Course': 'B-Tech', 'sec': 'E', 'Semester': 1, 'Roll no': '21BCS067'} \""
      ]
     },
     "execution_count": 31,
     "metadata": {},
     "output_type": "execute_result"
    }
   ],
   "source": [
    "#3.Write a Python program to Merging two Dictionaries?\n",
    "#ans1-\n",
    "def merge(dict1,dict2):\n",
    "    dict1.update(dict2)\n",
    "    return f\"Merge dict1 and dict2 = {dict1} \" \n",
    "dict1={\n",
    "    'Name':'Rumman',\n",
    "    'Course':'B-Tech',\n",
    "    \"sec\":'E'\n",
    "}\n",
    "dict2={\n",
    "    'Name':'Rumman',\n",
    "    'Semester':1,\n",
    "    'Roll no':'21BCS067'\n",
    "}\n",
    "merge(dict1,dict2)"
   ]
  },
  {
   "cell_type": "code",
   "execution_count": 49,
   "id": "047b1dfb",
   "metadata": {},
   "outputs": [
    {
     "data": {
      "text/plain": [
       "{'A': 10, 'B': 20, 'C': 30, 'D': 40, 'E': 50}"
      ]
     },
     "execution_count": 49,
     "metadata": {},
     "output_type": "execute_result"
    }
   ],
   "source": [
    "#4.Write a Python program to convert key-values list to flat dictionary?\n",
    "#ans4-\n",
    "def dictionary(list):\n",
    "    result={}\n",
    "    for  i in list:\n",
    "        result[i[0]]=i[1]\n",
    "    return result\n",
    "list=[('A',10),('B',20),('C',30),('D',40),('E',50)]\n",
    "dictionary(list)"
   ]
  },
  {
   "cell_type": "code",
   "execution_count": 50,
   "id": "0a6c500d",
   "metadata": {},
   "outputs": [
    {
     "name": "stdout",
     "output_type": "stream",
     "text": [
      "dict_one OrderedDict([('Apple', 'Iphone'), ('Microsoft', 'Windows'), ('Google', 'chrome')])\n",
      "dict_one OrderedDict([('Apple', 'Iphone'), ('Microsoft', 'Windows'), ('Google', 'chrome'), ('Tesla', 'SpaceX')])\n",
      "dict_one OrderedDict([('Tesla', 'SpaceX'), ('Apple', 'Iphone'), ('Microsoft', 'Windows'), ('Google', 'chrome')])\n"
     ]
    }
   ],
   "source": [
    "#5.Write a Python program to insertion at the beginning in OrderedDict?\n",
    "#ans5-\n",
    "from collections import OrderedDict\n",
    "dict_one = OrderedDict({'Apple':'Iphone','Microsoft':'Windows','Google':'chrome'})\n",
    "print('dict_one',dict_one)\n",
    "dict_two = {'Tesla':'SpaceX'}\n",
    "dict_one.update(dict_two)\n",
    "print('dict_one',dict_one)\n",
    "dict_one.move_to_end('Tesla',last=False)\n",
    "print('dict_one',dict_one)"
   ]
  },
  {
   "cell_type": "code",
   "execution_count": 52,
   "id": "4bf406dc",
   "metadata": {},
   "outputs": [
    {
     "name": "stdout",
     "output_type": "stream",
     "text": [
      "{'a': 1000, 'f': 200, 'd': 300, 'c': 400, 'b': 500, 'e': 600}\n",
      "OrderedDict([('a', 1000), ('b', 500), ('c', 400), ('d', 300), ('e', 600), ('f', 200)])\n"
     ]
    }
   ],
   "source": [
    "#6.Write a Python program to check order of character in string using OrderedDict()?\n",
    "#ans6-\n",
    "from collections import OrderedDict\n",
    "\n",
    "initial_list = {'a': 1000, 'f': 200, 'd': 300, 'c': 400, 'b': 500, 'e': 600}\n",
    "print(initial_list)\n",
    "\n",
    "final_list = OrderedDict(sorted(initial_list.items()))\n",
    "print(final_list)"
   ]
  },
  {
   "cell_type": "code",
   "execution_count": 55,
   "id": "c2c8c7d1",
   "metadata": {},
   "outputs": [
    {
     "name": "stdout",
     "output_type": "stream",
     "text": [
      "[('Banana', 60), ('Grape', 13), ('Mango', 100), ('PineApple', 22)]\n",
      "[('Grape', 13), ('PineApple', 22), ('Banana', 60), ('Mango', 100)]\n"
     ]
    }
   ],
   "source": [
    "#7.Write a Python program to sort Python Dictionaries by Key or Value?\n",
    "#ans7-\n",
    "d_items = {'Mango':100,'PineApple':22,'Banana':60,'Grape':13}\n",
    "\n",
    "def sort_dict(in_dict,sort_type):\n",
    "    if sort_type == 'key':\n",
    "        print(sorted(in_dict.items(), key=lambda x:x[0], reverse=False))\n",
    "    else:\n",
    "        print(sorted(in_dict.items(), key=lambda x:x[1], reverse=False))\n",
    "        \n",
    "sort_dict(d_items,'key')        \n",
    "sort_dict(d_items,'value')"
   ]
  },
  {
   "cell_type": "code",
   "execution_count": null,
   "id": "dddce8cb",
   "metadata": {},
   "outputs": [],
   "source": []
  }
 ],
 "metadata": {
  "kernelspec": {
   "display_name": "Python 3 (ipykernel)",
   "language": "python",
   "name": "python3"
  },
  "language_info": {
   "codemirror_mode": {
    "name": "ipython",
    "version": 3
   },
   "file_extension": ".py",
   "mimetype": "text/x-python",
   "name": "python",
   "nbconvert_exporter": "python",
   "pygments_lexer": "ipython3",
   "version": "3.9.7"
  }
 },
 "nbformat": 4,
 "nbformat_minor": 5
}
