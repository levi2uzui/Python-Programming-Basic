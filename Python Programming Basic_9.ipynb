{
 "cells": [
  {
   "cell_type": "code",
   "execution_count": 1,
   "id": "d00e08cf",
   "metadata": {},
   "outputs": [],
   "source": [
    "#Assignment 9"
   ]
  },
  {
   "cell_type": "code",
   "execution_count": 24,
   "id": "13029bdd",
   "metadata": {},
   "outputs": [
    {
     "name": "stdout",
     "output_type": "stream",
     "text": [
      "Enter the number = 135\n",
      "Number is Disarium\n"
     ]
    }
   ],
   "source": [
    "#1.Write a Python Program to check if the given number is a Disarium Number ?\n",
    "#ans1-\n",
    "def disarium(num):\n",
    "    sum=0\n",
    "    for i in range(0,len(num)):\n",
    "        \n",
    "        sum=sum+int(num[i])**(i+1);\n",
    "    if sum==int(num):\n",
    "        return \"Number is Disarium\"\n",
    "    else:\n",
    "        return \"Number is not Disarium\"\n",
    "num=input(\"Enter the number = \")\n",
    "print(disarium(num))    "
   ]
  },
  {
   "cell_type": "code",
   "execution_count": 26,
   "id": "8f222b2b",
   "metadata": {},
   "outputs": [
    {
     "data": {
      "text/plain": [
       "[1, 2, 3, 4, 5, 6, 7, 8, 9, 89]"
      ]
     },
     "execution_count": 26,
     "metadata": {},
     "output_type": "execute_result"
    }
   ],
   "source": [
    "#2.Write a Python Program to print all Disarium numbers between 1 to 100 ?\n",
    "#ans2-\n",
    "def alldisarium():\n",
    "    l=[]\n",
    "    for i in range(1,101):\n",
    "        num=str(i)\n",
    "        sum=0\n",
    "        for j in range(len(num)):\n",
    "            sum=sum+int(num[j])**(j+1)\n",
    "        if sum==int(num):\n",
    "            l.append(i)\n",
    "    return l\n",
    "alldisarium()          "
   ]
  },
  {
   "cell_type": "code",
   "execution_count": 2,
   "id": "3c8d4215",
   "metadata": {},
   "outputs": [
    {
     "name": "stdout",
     "output_type": "stream",
     "text": [
      "Enter the number = 19\n",
      "Number is a happy Number\n"
     ]
    }
   ],
   "source": [
    "#3.Write a Python Program to check if the given number is Happy Number ?\n",
    "#ans3-\n",
    "def happy(num):\n",
    "    sum=0\n",
    "    for i in range(0,len(num)):\n",
    "        sum=sum+(int(num[i])**2)\n",
    "    if sum == 1:\n",
    "        print(\"Number is a happy Number\")\n",
    "    elif sum<10 and sum>1:\n",
    "        print(\"Number is not a happy Number\")\n",
    "    else:\n",
    "        happy(str(sum))\n",
    "num=input(\"Enter the number = \")\n",
    "happy(num)"
   ]
  },
  {
   "cell_type": "code",
   "execution_count": 15,
   "id": "cf80243d",
   "metadata": {},
   "outputs": [
    {
     "name": "stdout",
     "output_type": "stream",
     "text": [
      "The Happy Numbers between 0 and 100 are [1, 7, 10, 13, 19, 23, 28, 31, 32, 44, 49, 68, 70, 79, 82, 86, 91, 94, 97, 100]\n"
     ]
    }
   ],
   "source": [
    "#4.Write a Python Program to print all Happy numbers between 1 and 100 ?\n",
    "#ans4-\n",
    "def checkHappyNumber(start=0,end=100):\n",
    "    happyNumbersList = []\n",
    "    for in_num in range(start,end+1):\n",
    "        in_num = str(in_num)\n",
    "        inum_holder = in_num\n",
    "        trackNumber = set()   \n",
    "        while True:\n",
    "            if in_num != '1' and str(in_num) not in trackNumber:\n",
    "                trackNumber.add(in_num)\n",
    "                sum = 0\n",
    "                for ele in range(len((in_num))):\n",
    "                    sum = sum + int(in_num[ele])**2\n",
    "                in_num = str(sum)\n",
    "            elif str(in_num) in trackNumber:\n",
    "                break\n",
    "            else:\n",
    "                happyNumbersList.append(int(inum_holder))\n",
    "                break\n",
    "    print(f'The Happy Numbers between {start} and {end} are {happyNumbersList}')\n",
    "    \n",
    "checkHappyNumber(0,100)"
   ]
  },
  {
   "cell_type": "code",
   "execution_count": 19,
   "id": "c7e3ab02",
   "metadata": {},
   "outputs": [
    {
     "name": "stdout",
     "output_type": "stream",
     "text": [
      "Enter the number = 171\n",
      "171 is a Harshad number\n"
     ]
    }
   ],
   "source": [
    "#5.Write a Python Program to determine whether the given number is a Harshad Number ?\n",
    "#ans5-\n",
    "def harshad(num):\n",
    "    sum=0\n",
    "    for i in range(len(num)):\n",
    "         sum=sum+int(num[i])\n",
    "    if int(num)%sum==0:\n",
    "        print(f\"{num} is a Harshad number\")\n",
    "    else:\n",
    "        print(f'{num} is not a Harshad number')\n",
    "num=input(\"Enter the number = \")\n",
    "harshad(num)"
   ]
  },
  {
   "cell_type": "code",
   "execution_count": 20,
   "id": "3b896f8f",
   "metadata": {},
   "outputs": [
    {
     "name": "stdout",
     "output_type": "stream",
     "text": [
      "Enter the number = 353\n",
      "353 is not a Harshad number\n"
     ]
    }
   ],
   "source": [
    "num=input(\"Enter the number = \")\n",
    "harshad(num)"
   ]
  },
  {
   "cell_type": "code",
   "execution_count": 23,
   "id": "85d4def7",
   "metadata": {},
   "outputs": [
    {
     "name": "stdout",
     "output_type": "stream",
     "text": [
      "Enter the number = 110\n",
      "110 is a Pronic Number\n"
     ]
    }
   ],
   "source": [
    "#6.Write a Python Program to print all pronic numbers between 1 and 100 ?\n",
    "#ans6-\n",
    "def pronic(num):\n",
    "    flag=False\n",
    "    for i in range(num):\n",
    "        if i*(i+1)==num:\n",
    "            flag=True\n",
    "            break\n",
    "    if flag==True:\n",
    "         print(f\"{num} is a Pronic Number\")\n",
    "    else:\n",
    "        print(f\"{num} is not a Pronic Number\")\n",
    "    \n",
    "num=int(input(\"Enter the number = \"))\n",
    "pronic(num)"
   ]
  },
  {
   "cell_type": "code",
   "execution_count": 24,
   "id": "5a732923",
   "metadata": {},
   "outputs": [
    {
     "name": "stdout",
     "output_type": "stream",
     "text": [
      "Enter the number = 36\n",
      "36 is not a Pronic Number\n"
     ]
    }
   ],
   "source": [
    "num=int(input(\"Enter the number = \"))\n",
    "pronic(num)"
   ]
  },
  {
   "cell_type": "code",
   "execution_count": null,
   "id": "b0ce9fde",
   "metadata": {},
   "outputs": [],
   "source": []
  }
 ],
 "metadata": {
  "kernelspec": {
   "display_name": "Python 3 (ipykernel)",
   "language": "python",
   "name": "python3"
  },
  "language_info": {
   "codemirror_mode": {
    "name": "ipython",
    "version": 3
   },
   "file_extension": ".py",
   "mimetype": "text/x-python",
   "name": "python",
   "nbconvert_exporter": "python",
   "pygments_lexer": "ipython3",
   "version": "3.9.7"
  }
 },
 "nbformat": 4,
 "nbformat_minor": 5
}
