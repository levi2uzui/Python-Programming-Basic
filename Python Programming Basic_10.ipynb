{
 "cells": [
  {
   "cell_type": "code",
   "execution_count": 1,
   "id": "3b6d380e",
   "metadata": {},
   "outputs": [],
   "source": [
    "#Assignment 10 Solutions"
   ]
  },
  {
   "cell_type": "code",
   "execution_count": 5,
   "id": "40664dfa",
   "metadata": {},
   "outputs": [
    {
     "name": "stdout",
     "output_type": "stream",
     "text": [
      "Enter the length of the string5\n",
      "Enter a element1\n",
      "Enter a element2\n",
      "Enter a element3\n",
      "Enter a element4\n",
      "Enter a element5\n"
     ]
    },
    {
     "data": {
      "text/plain": [
       "('Sum of the element in the list is = ', 15)"
      ]
     },
     "execution_count": 5,
     "metadata": {},
     "output_type": "execute_result"
    }
   ],
   "source": [
    "#1.Write a Python Program to find sum of elements in a list ?\n",
    "#ans1-\n",
    "def sum(a):\n",
    "    sum=0\n",
    "    for i in range(0,len(a)):\n",
    "        sum=sum+a[i]\n",
    "    return \"Sum of the element in the list is = \", sum\n",
    "n=int(input(\"Enter the length of the string\"))\n",
    "l=[]\n",
    "for i in range(n):\n",
    "    l.append(int(input(\"Enter a element\")))\n",
    "sum(l)"
   ]
  },
  {
   "cell_type": "code",
   "execution_count": 6,
   "id": "f080b2fa",
   "metadata": {},
   "outputs": [
    {
     "name": "stdout",
     "output_type": "stream",
     "text": [
      "Enter the length of the list = 5\n",
      "Enter a element = 1\n",
      "Enter a element = 2\n",
      "Enter a element = 3\n",
      "Enter a element = 4\n",
      "Enter a element = 5\n"
     ]
    },
    {
     "data": {
      "text/plain": [
       "('Product of the elements in the list is = ', 120)"
      ]
     },
     "execution_count": 6,
     "metadata": {},
     "output_type": "execute_result"
    }
   ],
   "source": [
    "#2.Write a Python Program to multiply all numbers in the list ?\n",
    "def multiply(a):\n",
    "    mul=1\n",
    "    for i in range(len(a)):\n",
    "        mul=mul*a[i]\n",
    "    return \"Product of the elements in the list is = \",mul\n",
    "n=int(input(\"Enter the length of the list = \"))\n",
    "l=[]\n",
    "for i in range(n):\n",
    "    l.append(int(input(\"Enter a element = \")))\n",
    "multiply(l)"
   ]
  },
  {
   "cell_type": "code",
   "execution_count": 8,
   "id": "24a4f5a3",
   "metadata": {},
   "outputs": [
    {
     "name": "stdout",
     "output_type": "stream",
     "text": [
      "Enter the length of the list = 5\n",
      "Enter a element = 50\n",
      "Enter a element = 40\n",
      "Enter a element = 10000\n",
      "Enter a element = 30\n",
      "Enter a element = 2\n"
     ]
    },
    {
     "data": {
      "text/plain": [
       "('Smallest element in the list is = ', 2)"
      ]
     },
     "execution_count": 8,
     "metadata": {},
     "output_type": "execute_result"
    }
   ],
   "source": [
    "#3.Write a Python Program to find smallest number in the list ?\n",
    "#ans3-\n",
    "def min(a):\n",
    "    min=a[0]\n",
    "    for i in range(len(a)):\n",
    "        if min>a[i]:\n",
    "            min=a[i]\n",
    "    return \"Smallest element in the list is = \",min\n",
    "n=int(input(\"Enter the length of the list = \"))\n",
    "l=[]\n",
    "for i in range(n):\n",
    "    l.append(int(input(\"Enter a element = \")))\n",
    "min(l)"
   ]
  },
  {
   "cell_type": "code",
   "execution_count": 11,
   "id": "52a8cda2",
   "metadata": {},
   "outputs": [
    {
     "name": "stdout",
     "output_type": "stream",
     "text": [
      "Enter the length of the list = 5\n",
      "Enter a element = 50\n",
      "Enter a element = 40\n",
      "Enter a element = 1000\n",
      "Enter a element = 20\n",
      "Enter a element = 1\n"
     ]
    },
    {
     "data": {
      "text/plain": [
       "('Largest number in the list is = ', 1000)"
      ]
     },
     "execution_count": 11,
     "metadata": {},
     "output_type": "execute_result"
    }
   ],
   "source": [
    "#4.Write a Python Program to find largest number in the list ?\n",
    "#ans4-\n",
    "def max(a):\n",
    "    max=a[0]\n",
    "    for i in range(len(a)):\n",
    "        if max<a[i]:\n",
    "            max=a[i]\n",
    "    return \"Largest number in the list is = \",max\n",
    "n=int(input(\"Enter the length of the list = \"))\n",
    "l=[]\n",
    "for i in range(n):\n",
    "    l.append(int(input(\"Enter a element = \")))\n",
    "max(l)"
   ]
  },
  {
   "cell_type": "code",
   "execution_count": 12,
   "id": "69af98bc",
   "metadata": {},
   "outputs": [
    {
     "name": "stdout",
     "output_type": "stream",
     "text": [
      "Enter the length of the list = 5\n",
      "Enter a element = 1\n",
      "Enter a element = 5\n",
      "Enter a element = 9\n",
      "Enter a element = 3\n",
      "Enter a element = 7\n"
     ]
    },
    {
     "data": {
      "text/plain": [
       "('Second largest element in the list=[1, 3, 5, 7, 9] is = ', 7)"
      ]
     },
     "execution_count": 12,
     "metadata": {},
     "output_type": "execute_result"
    }
   ],
   "source": [
    "#5.Write a Python Program to find second largest number in the list ?\n",
    "#ans5-\n",
    "def second_largest(a):\n",
    "    a.sort()\n",
    "    return f\"Second largest element in the list={a} is = \",a[-2]\n",
    "n=int(input(\"Enter the length of the list = \"))\n",
    "l=[]\n",
    "for i in range(n):\n",
    "    l.append(int(input(\"Enter a element = \")))\n",
    "second_largest(l)"
   ]
  },
  {
   "cell_type": "code",
   "execution_count": 15,
   "id": "0c29cecb",
   "metadata": {},
   "outputs": [
    {
     "name": "stdout",
     "output_type": "stream",
     "text": [
      "Enter the length of the list 5\n",
      "Enter the value of N =3\n",
      "Enter a element = 4\n",
      "Enter a element = 2\n",
      "Enter a element = 5\n",
      "Enter a element = 3\n",
      "Enter a element = 1\n"
     ]
    },
    {
     "data": {
      "text/plain": [
       "('3 largest element in  the list =[1, 2, 3, 4, 5] is = ', 3)"
      ]
     },
     "execution_count": 15,
     "metadata": {},
     "output_type": "execute_result"
    }
   ],
   "source": [
    "#6.Write a Python Program to find N largest elements in the list ?\n",
    "#ans6-\n",
    "def nlargest(a,N):\n",
    "    a.sort()\n",
    "    return f\"{N} largest element in  the list ={a} is = \",a[-N]\n",
    "n=int(input('Enter the length of the list '))\n",
    "N=int(input(\"Enter the value of N =\"))\n",
    "l=[]\n",
    "for i in range(n):\n",
    "    l.append(int(input(\"Enter a element = \")))\n",
    "nlargest(l,N)"
   ]
  },
  {
   "cell_type": "code",
   "execution_count": 16,
   "id": "39ce8d0b",
   "metadata": {},
   "outputs": [
    {
     "name": "stdout",
     "output_type": "stream",
     "text": [
      "Enter the length of the list = 10\n",
      "Enter a element = 1\n",
      "Enter a element = 2\n",
      "Enter a element = 3\n",
      "Enter a element = 4\n",
      "Enter a element = 5\n",
      "Enter a element = 6\n",
      "Enter a element = 7\n",
      "Enter a element = 8\n",
      "Enter a element = 9\n",
      "Enter a element = 10\n"
     ]
    },
    {
     "data": {
      "text/plain": [
       "('Even numbers in the list[1, 2, 3, 4, 5, 6, 7, 8, 9, 10] are = ',\n",
       " [2, 4, 6, 8, 10])"
      ]
     },
     "execution_count": 16,
     "metadata": {},
     "output_type": "execute_result"
    }
   ],
   "source": [
    "#7.Write a Python Program to find even numbers in the list ?\n",
    "#ans7-\n",
    "def even(a):\n",
    "    even=[]\n",
    "    for i in range(len(a)):\n",
    "        if a[i]%2==0:\n",
    "            even.append(a[i])\n",
    "    return f\"Even numbers in the list{a} are = \", even\n",
    "n=int(input(\"Enter the length of the list = \"))\n",
    "l=[]\n",
    "for i in range(n):\n",
    "    l.append(int(input(\"Enter a element = \")))\n",
    "even(l)      "
   ]
  },
  {
   "cell_type": "code",
   "execution_count": 17,
   "id": "e4eebe91",
   "metadata": {},
   "outputs": [
    {
     "name": "stdout",
     "output_type": "stream",
     "text": [
      "Enter the length of the list = 10\n",
      "Enter a element = 1\n",
      "Enter a element = 2\n",
      "Enter a element = 3\n",
      "Enter a element = 4\n",
      "Enter a element = 5\n",
      "Enter a element = 6\n",
      "Enter a element = 7\n",
      "Enter a element = 8\n",
      "Enter a element = 9\n",
      "Enter a element = 10\n"
     ]
    },
    {
     "data": {
      "text/plain": [
       "('Odd numbers in the list=[1, 2, 3, 4, 5, 6, 7, 8, 9, 10] are ',\n",
       " [1, 3, 5, 7, 9])"
      ]
     },
     "execution_count": 17,
     "metadata": {},
     "output_type": "execute_result"
    }
   ],
   "source": [
    "#8.Write a Python Program to find odd numbers in the list ?\n",
    "#ans8-\n",
    "def odd(a):\n",
    "    odd=[]\n",
    "    for i in range(len(a)):\n",
    "        if a[i]%2!=0:\n",
    "            odd.append(a[i])\n",
    "    return f\"Odd numbers in the list={a} are \",odd\n",
    "n=int(input(\"Enter the length of the list = \"))\n",
    "l=[]\n",
    "for i in range(n):\n",
    "    l.append(int(input(\"Enter a element = \")))\n",
    "odd(l) "
   ]
  },
  {
   "cell_type": "code",
   "execution_count": 29,
   "id": "9664e77e",
   "metadata": {},
   "outputs": [
    {
     "name": "stdout",
     "output_type": "stream",
     "text": [
      "Enter all elements of the list: [],3,4,5,[]\n",
      "List is = [[], 3, 4, 5, []]\n"
     ]
    },
    {
     "data": {
      "text/plain": [
       "('Result = ', [3, 4, 5])"
      ]
     },
     "execution_count": 29,
     "metadata": {},
     "output_type": "execute_result"
    }
   ],
   "source": [
    "#9.Write a Python Program to remove empty list from list ?\n",
    "#ans9-\n",
    "def empty(a):\n",
    "    for i in range(0,len(a)-1):\n",
    "        if a[i]==[]:\n",
    "            a.remove([])\n",
    "    return \"Result = \",a\n",
    "l = eval(input('Enter all elements of the list: '))\n",
    "l=list(l)\n",
    "print(f\"List is = {l}\")\n",
    "empty(l)"
   ]
  },
  {
   "cell_type": "markdown",
   "id": "813d3ecf",
   "metadata": {},
   "source": []
  },
  {
   "cell_type": "code",
   "execution_count": 35,
   "id": "16e25c56",
   "metadata": {},
   "outputs": [
    {
     "name": "stdout",
     "output_type": "stream",
     "text": [
      "Enter all the elements in the list = 1,2,3,4,5\n",
      "original list=[1, 2, 3, 4, 5] is = [1, 2, 3, 4, 5] id =  2936679214272\n"
     ]
    },
    {
     "data": {
      "text/plain": [
       "('Clone of the list=[1, 2, 3, 4, 5] is = ',\n",
       " [1, 2, 3, 4, 5],\n",
       " 'id = ',\n",
       " 2936680281664)"
      ]
     },
     "execution_count": 35,
     "metadata": {},
     "output_type": "execute_result"
    }
   ],
   "source": [
    "#10.Write a Python Program to Cloning or Copying a list ?\n",
    "#ans10-\n",
    "import copy\n",
    "def copy(a):\n",
    "    copy=a.copy()\n",
    "    print(f\"original list={a} is =\",a,\"id = \",id(a))\n",
    "    return f\"Clone of the list={a} is = \",copy,\"id = \",id(copy)\n",
    "l=eval(input(\"Enter all the elements in the list = \"))\n",
    "copy(list(l))"
   ]
  },
  {
   "cell_type": "code",
   "execution_count": 39,
   "id": "6e9b1467",
   "metadata": {},
   "outputs": [
    {
     "name": "stdout",
     "output_type": "stream",
     "text": [
      "Enter the length of the list = 10\n",
      "Enter a element = 6\n",
      "Enter a element = 6\n",
      "Enter a element = 6\n",
      "Enter a element = 3\n",
      "Enter a element = 4\n",
      "Enter a element = 5\n",
      "Enter a element = 6\n",
      "Enter a element = 7\n",
      "Enter a element = 8\n",
      "Enter a element = 6\n",
      "Enter the number whose occurence you want = 6\n"
     ]
    },
    {
     "data": {
      "text/plain": [
       "('occurence of 6 is = ', 5)"
      ]
     },
     "execution_count": 39,
     "metadata": {},
     "output_type": "execute_result"
    }
   ],
   "source": [
    "#11.Write a Python Program to count occurences of an element in a list ?\n",
    "#ans11-\n",
    "def count(a,N):\n",
    "    count=0\n",
    "    for i in range(len(a)):\n",
    "        if a[i]==N:\n",
    "            count+=1\n",
    "    return f\"occurence of {N} is = \",count\n",
    "n=int(input(\"Enter the length of the list = \"))\n",
    "l=[]\n",
    "for i in range(n):\n",
    "    l.append(int(input(\"Enter a element = \")))\n",
    "N=int(input(\"Enter the number whose occurence you want = \"))\n",
    "count(l,N)"
   ]
  },
  {
   "cell_type": "markdown",
   "id": "90b7e68b",
   "metadata": {},
   "source": []
  },
  {
   "cell_type": "code",
   "execution_count": null,
   "id": "e890fe8f",
   "metadata": {},
   "outputs": [],
   "source": []
  }
 ],
 "metadata": {
  "kernelspec": {
   "display_name": "Python 3 (ipykernel)",
   "language": "python",
   "name": "python3"
  },
  "language_info": {
   "codemirror_mode": {
    "name": "ipython",
    "version": 3
   },
   "file_extension": ".py",
   "mimetype": "text/x-python",
   "name": "python",
   "nbconvert_exporter": "python",
   "pygments_lexer": "ipython3",
   "version": "3.9.7"
  }
 },
 "nbformat": 4,
 "nbformat_minor": 5
}
