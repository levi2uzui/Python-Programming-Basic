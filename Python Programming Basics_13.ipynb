{
 "cells": [
  {
   "cell_type": "code",
   "execution_count": 1,
   "id": "acb66c8f",
   "metadata": {},
   "outputs": [],
   "source": [
    "#Assignment 13 Answers"
   ]
  },
  {
   "cell_type": "code",
   "execution_count": 17,
   "id": "8581004b",
   "metadata": {},
   "outputs": [
    {
     "name": "stdout",
     "output_type": "stream",
     "text": [
      "Enter the number = 100,150,200\n",
      "Sequence is =  [100, 150, 200]\n"
     ]
    },
    {
     "data": {
      "text/plain": [
       "('Output is = ', [18, 22, 25])"
      ]
     },
     "execution_count": 17,
     "metadata": {},
     "output_type": "execute_result"
    }
   ],
   "source": [
    "#1.Write a program that calculates and prints the value according to the given formula:\n",
    "#Q = Square root of [(2 * C * D)/H]\n",
    "#Following are the fixed values of C and H:\n",
    "#C is 50. H is 30.\n",
    "#D is the variable whose values should be input to your program in a comma-separated sequence.\n",
    "#Example: Let us assume the following comma separated input sequence is given to the program:100,150,180\n",
    "#The output of the program should be: 18,22,24\n",
    "#ans1-\n",
    "from math import sqrt\n",
    "def cal(list):\n",
    "    result=[]\n",
    "    C=50\n",
    "    H=30\n",
    "    for i in range(len(list)):\n",
    "        Q = int(sqrt((2 * C * list[i])/H))\n",
    "        result.append(Q)\n",
    "    return \"Output is = \", result\n",
    "\n",
    "str=input(\"Enter the number = \")\n",
    "d=str.split(',')\n",
    "for i in range(0,len(d)):\n",
    "    d[i]=int(d[i])\n",
    "list=d\n",
    "print(\"Sequence is = \",list)\n",
    "cal(list)\n",
    "    "
   ]
  },
  {
   "cell_type": "code",
   "execution_count": 18,
   "id": "be4bf045",
   "metadata": {},
   "outputs": [
    {
     "name": "stdout",
     "output_type": "stream",
     "text": [
      "Enter the No of Rows:3\n",
      "Enter the No of Columns:5\n",
      "[[0, 0, 0, 0, 0], [0, 1, 2, 3, 4], [0, 2, 4, 6, 8]]\n"
     ]
    }
   ],
   "source": [
    "#2.Write a program which takes 2 digits, X,Y as input and generates a 2-dimensional array. The element value in the i-th \n",
    "#row and j-th column of the array should be i*j.\n",
    "#ans2-\n",
    "import array as arr\n",
    "def generateArray():\n",
    "    in_x = int(input('Enter the No of Rows:'))\n",
    "    in_y = int(input('Enter the No of Columns:')) \n",
    "    out_array = []\n",
    "    for ele in range(in_x):\n",
    "        out_array.insert(in_x,[])\n",
    "        for sub_ele in range(in_y):\n",
    "            out_array[ele].append(ele*sub_ele)\n",
    "    print(out_array)\n",
    "    \n",
    "generateArray()"
   ]
  },
  {
   "cell_type": "code",
   "execution_count": 27,
   "id": "9a766389",
   "metadata": {},
   "outputs": [
    {
     "name": "stdout",
     "output_type": "stream",
     "text": [
      "Enter the values = without,hello,bag,world\n"
     ]
    },
    {
     "data": {
      "text/plain": [
       "'Output is =  bag,hello,without,world'"
      ]
     },
     "execution_count": 27,
     "metadata": {},
     "output_type": "execute_result"
    }
   ],
   "source": [
    "#3.Write a program that accepts a comma separated sequence of words as input and prints the words in a comma-separated \n",
    "#sequence after sorting them alphabetically ?\n",
    "#ans3-\n",
    "def sort(str):\n",
    "    return f\"Output is =  {','.join(sorted(str))}\"\n",
    "a=input(\"Enter the values = \")\n",
    "b=a.split(',')\n",
    "sort(b)\n",
    "# print(b)"
   ]
  },
  {
   "cell_type": "code",
   "execution_count": 8,
   "id": "73bdd47c",
   "metadata": {},
   "outputs": [
    {
     "name": "stdout",
     "output_type": "stream",
     "text": [
      "Enter the string = hello world and practice makes perfect and hello world again\n"
     ]
    },
    {
     "data": {
      "text/plain": [
       "'Result is = again and hello makes perfect practice world '"
      ]
     },
     "execution_count": 8,
     "metadata": {},
     "output_type": "execute_result"
    }
   ],
   "source": [
    "#4.Write a program that accepts a sequence of whitespace separated words as input and prints the words after removing all \n",
    "#duplicate words and sorting them alphanumerically.\n",
    "#ans4-\n",
    "def out(d):\n",
    "    d=' '.join(sorted(set(str.split(' '))))\n",
    "    return f\"Result is = {d} \"\n",
    "str=input(\"Enter the string = \")\n",
    "out(str)"
   ]
  },
  {
   "cell_type": "code",
   "execution_count": 10,
   "id": "031fdcf7",
   "metadata": {},
   "outputs": [
    {
     "name": "stdout",
     "output_type": "stream",
     "text": [
      "Enter the sentence = hello world! 123\n",
      "Number of digits are =  3\n",
      "Number of Letters are =  10\n"
     ]
    }
   ],
   "source": [
    "#5.Write a program that accepts a sentence and calculate the number of letters and digits.\n",
    "#ans5-\n",
    "def count(str):\n",
    "    lettersList = 'ABCDEFGHIJKLMNOPQRSTUVWXYZabcdefghijklmnopqrstuvwxyz'\n",
    "    count=0\n",
    "    nod=str.split(\" \")\n",
    "    for i in range(len(str)):\n",
    "        if str[i] in lettersList:\n",
    "            count=count+1\n",
    "    print(\"Number of digits are = \", len(nod))\n",
    "    print(\"Number of Letters are = \", count)\n",
    "str=input(\"Enter the sentence = \")\n",
    "count(str)"
   ]
  },
  {
   "cell_type": "code",
   "execution_count": 25,
   "id": "69eaf709",
   "metadata": {},
   "outputs": [
    {
     "name": "stdout",
     "output_type": "stream",
     "text": [
      "Enter the Password = Rumman01@\n"
     ]
    },
    {
     "data": {
      "text/plain": [
       "'Password is valid'"
      ]
     },
     "execution_count": 25,
     "metadata": {},
     "output_type": "execute_result"
    }
   ],
   "source": [
    "#6.A website requires the users to input username and password to register. Write a program to check the validity of password \n",
    "#input by users.\n",
    "#ans6-\n",
    "def check(password):\n",
    "    validation = \"abcdefghijklmnopqrstuvwxyzABCDEFGHIJKLMNOPQRSTUVWXYZ0123456789$#@\" \n",
    "    flag=False\n",
    "    if len(password)>=6 and len(password)<=12:\n",
    "        for i in range(len(password)):\n",
    "            if password[i] in validation:\n",
    "                flag=True\n",
    "            else:\n",
    "                flag=False\n",
    "                break\n",
    "    if flag==True:\n",
    "        return \"Password is valid\"\n",
    "    else:\n",
    "        return \"password is not valid\"\n",
    "password=input(\"Enter the Password = \")\n",
    "check(password)"
   ]
  },
  {
   "cell_type": "code",
   "execution_count": null,
   "id": "bc9b6b4d",
   "metadata": {},
   "outputs": [],
   "source": []
  },
  {
   "cell_type": "code",
   "execution_count": null,
   "id": "2279f9e7",
   "metadata": {},
   "outputs": [],
   "source": []
  },
  {
   "cell_type": "code",
   "execution_count": null,
   "id": "86ab3af8",
   "metadata": {},
   "outputs": [],
   "source": []
  }
 ],
 "metadata": {
  "kernelspec": {
   "display_name": "Python 3 (ipykernel)",
   "language": "python",
   "name": "python3"
  },
  "language_info": {
   "codemirror_mode": {
    "name": "ipython",
    "version": 3
   },
   "file_extension": ".py",
   "mimetype": "text/x-python",
   "name": "python",
   "nbconvert_exporter": "python",
   "pygments_lexer": "ipython3",
   "version": "3.9.7"
  }
 },
 "nbformat": 4,
 "nbformat_minor": 5
}
