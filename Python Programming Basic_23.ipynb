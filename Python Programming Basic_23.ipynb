{
 "cells": [
  {
   "cell_type": "code",
   "execution_count": 1,
   "metadata": {},
   "outputs": [],
   "source": [
    "#Assignment 23 Solutions"
   ]
  },
  {
   "cell_type": "code",
   "execution_count": 14,
   "metadata": {},
   "outputs": [
    {
     "name": "stdout",
     "output_type": "stream",
     "text": [
      "is_symmetrical(7227) ➞ True\n",
      "is_symmetrical(12567) ➞ False\n",
      "is_symmetrical(44444444) ➞ True\n",
      "is_symmetrical(9939) ➞ False\n",
      "is_symmetrical(1112111) ➞ True\n"
     ]
    }
   ],
   "source": [
    "#1.Create a function that takes a number as an argument and returns True or False depending on whether \n",
    "#the number is symmetrical or not. A number is symmetrical when it is the same as its reverse.\n",
    "\n",
    "#Examples:\n",
    "#is_symmetrical(7227) ➞ True\n",
    "#is_symmetrical(12567) ➞ False\n",
    "#is_symmetrical(44444444) ➞ True\n",
    "#is_symmetrical(9939) ➞ False\n",
    "#is_symmetrical(1112111) ➞ True\n",
    "#ans1-\n",
    "def symmetry(num):\n",
    "    rev=0\n",
    "    i=num\n",
    "    while i>0:\n",
    "        r=i%10\n",
    "        rev=rev*10+r\n",
    "        i=int(i/10)\n",
    "    if rev==num:\n",
    "        return True\n",
    "    else:\n",
    "        return False\n",
    "print(f'is_symmetrical(7227) ➞ {symmetry(7227)}')\n",
    "print(f'is_symmetrical(12567) ➞ {symmetry(12567)}')\n",
    "print(f'is_symmetrical(44444444) ➞ {symmetry(44444444)}')\n",
    "print(f'is_symmetrical(9939) ➞ {symmetry(9939)}')\n",
    "print(f'is_symmetrical(1112111) ➞ {symmetry(1112111)}')"
   ]
  },
  {
   "cell_type": "code",
   "execution_count": 31,
   "metadata": {},
   "outputs": [
    {
     "name": "stdout",
     "output_type": "stream",
     "text": [
      "multiply_nums(\"2, 3\") ➞ 6\n",
      "multiply_nums(\"1, 2, 3, 4\") ➞ 24\n",
      "multiply_nums(\"54, 75, 453, 0\") ➞ 0\n",
      "multiply_nums(\"10, -2\") ➞ -20\n"
     ]
    }
   ],
   "source": [
    "#2.Given a string of numbers separated by a comma and space, return the product of the numbers.\n",
    "\n",
    "#Examples:\n",
    "#multiply_nums(\"2, 3\") ➞ 6\n",
    "#multiply_nums(\"1, 2, 3, 4\") ➞ 24\n",
    "#multiply_nums(\"54, 75, 453, 0\") ➞ 0\n",
    "#multiply_nums(\"10, -2\") ➞ -20\n",
    "#ans2-\n",
    "def multiply(str):\n",
    "    list=str.replace(' ','').split(',')\n",
    "    result=1\n",
    "    for i in range(len(list)):\n",
    "        result=result*int(list[i])\n",
    "    return result\n",
    "print(f'multiply_nums(\"2, 3\") ➞ {multiply(\"2, 3\")}')\n",
    "print(f'multiply_nums(\"1, 2, 3, 4\") ➞ {multiply(\"1, 2, 3, 4\")}')\n",
    "print(f'multiply_nums(\"54, 75, 453, 0\") ➞ {multiply(\"54, 75, 453, 0\")}')\n",
    "print(f'multiply_nums(\"10, -2\") ➞ {multiply(\"10, -2\")}')"
   ]
  },
  {
   "cell_type": "code",
   "execution_count": 36,
   "metadata": {},
   "outputs": [
    {
     "name": "stdout",
     "output_type": "stream",
     "text": [
      "square_digits(9119) ➞ 1\n",
      "square_digits(2483) ➞ 1\n",
      "square_digits(3212) ➞ 1\n"
     ]
    }
   ],
   "source": [
    "#3.Create a function that squares every digit of a number.\n",
    "\n",
    "#Examples:\n",
    "#square_digits(9119) ➞ 811181\n",
    "#square_digits(2483) ➞ 416649\n",
    "#square_digits(3212) ➞ 9414\n",
    "def square(num):\n",
    "    rev=1\n",
    "    str=''\n",
    "    i=num\n",
    "    while i>0:\n",
    "        r=i%10\n",
    "        str=str+'{r**2}'\n",
    "        i=int(i/10)\n",
    "    return rev\n",
    "print(f'square_digits(9119) ➞ {square(9119)}')\n",
    "print(f'square_digits(2483) ➞ {square(2483)}')\n",
    "print(f'square_digits(3212) ➞ {square(3212)}')"
   ]
  },
  {
   "cell_type": "code",
   "execution_count": 51,
   "metadata": {},
   "outputs": [
    {
     "name": "stdout",
     "output_type": "stream",
     "text": [
      "setify([1, 3, 3, 5, 5]) ➞ [1, 3, 5]\n",
      "setify([4, 4, 4, 4]) ➞ [4]\n",
      "setify([5, 7, 8, 9, 10, 15]) ➞ [5, 7, 8, 9, 10, 15]\n",
      "setify([3, 3, 3, 2, 1]) ➞ [1, 2, 3]\n"
     ]
    }
   ],
   "source": [
    "#4.Create a function that sorts a list and removes all duplicate items from it.\n",
    "\n",
    "#Examples:\n",
    "#setify([1, 3, 3, 5, 5]) ➞ [1, 3, 5]\n",
    "#setify([4, 4, 4, 4]) ➞ [4]\n",
    "#setify([5, 7, 8, 9, 10, 15]) ➞ [5, 7, 8, 9, 10, 15]\n",
    "#setify([3, 3, 3, 2, 1]) ➞ [1, 2, 3]\n",
    "#ans4-\n",
    "def duplicate(list):\n",
    "    return  sorted(set(list))\n",
    "print(f'setify([1, 3, 3, 5, 5]) ➞ {duplicate([1, 3, 3, 5, 5])}')\n",
    "print(f'setify([4, 4, 4, 4]) ➞ {duplicate([4, 4, 4, 4])}')\n",
    "print(f'setify([5, 7, 8, 9, 10, 15]) ➞ {duplicate([5, 7, 8, 9, 10, 15])}')\n",
    "print(f'setify([3, 3, 3, 2, 1]) ➞ {duplicate([3, 3, 3, 2, 1])}')"
   ]
  },
  {
   "cell_type": "code",
   "execution_count": 59,
   "metadata": {},
   "outputs": [
    {
     "name": "stdout",
     "output_type": "stream",
     "text": [
      "mean(42) ➞ 3\n",
      "mean(12345) ➞ 3\n",
      "mean(666) ➞ 6\n"
     ]
    }
   ],
   "source": [
    "#5.Create a function that returns the mean of all digits.\n",
    "#Examples:\n",
    "#mean(42) ➞ 3\n",
    "#mean(12345) ➞ 3\n",
    "#mean(666) ➞ 6\n",
    "\n",
    "#Notes:\n",
    "#1.The mean of all digits is the sum of digits / how many digits there are (e.g. mean of digits in 512 is (5+1+2)/3(number of digits) = 8/3=2).\n",
    "#2.The mean will always be an integer.\n",
    "#ans5-\n",
    "def mean(num):\n",
    "    count=0\n",
    "    sum=0\n",
    "    i=num\n",
    "    while i>0:\n",
    "        r=i%10\n",
    "        sum=sum+r\n",
    "        i=int(i/10)\n",
    "        count=count+1\n",
    "    return int(sum/count)\n",
    "print(f'mean(42) ➞ {mean(42)}')\n",
    "print(f'mean(12345) ➞ {mean(12345)}')\n",
    "print(f'mean(666) ➞ {mean(666)}')  "
   ]
  },
  {
   "cell_type": "code",
   "execution_count": null,
   "metadata": {},
   "outputs": [],
   "source": []
  }
 ],
 "metadata": {
  "kernelspec": {
   "display_name": "Python 3",
   "language": "python",
   "name": "python3"
  },
  "language_info": {
   "codemirror_mode": {
    "name": "ipython",
    "version": 3
   },
   "file_extension": ".py",
   "mimetype": "text/x-python",
   "name": "python",
   "nbconvert_exporter": "python",
   "pygments_lexer": "ipython3",
   "version": "3.8.3"
  }
 },
 "nbformat": 4,
 "nbformat_minor": 4
}
