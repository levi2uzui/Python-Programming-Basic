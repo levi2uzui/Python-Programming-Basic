{
 "cells": [
  {
   "cell_type": "code",
   "execution_count": 1,
   "metadata": {},
   "outputs": [],
   "source": [
    "#Assignment 25 Solutions"
   ]
  },
  {
   "cell_type": "code",
   "execution_count": 5,
   "metadata": {},
   "outputs": [
    {
     "name": "stdout",
     "output_type": "stream",
     "text": [
      "equal(3, 4, 3) ➞ 2\n",
      "equal(1,1,1) ➞ 3\n",
      "equal(3, 4, 1) ➞ 0\n"
     ]
    }
   ],
   "source": [
    "#1.Create a function that takes three integer arguments (a, b, c) and returns the amount of\n",
    "#integers which are of equal value.\n",
    "\n",
    "#Examples:\n",
    "#equal(3, 4, 3) ➞ 2\n",
    "#equal(1, 1, 1) ➞ 3\n",
    "#equal(3, 4, 1) ➞ 0\n",
    "\n",
    "#Notes:\n",
    "#Your function must return 0, 2 or 3.\n",
    "#ans1-\n",
    "def count(a,b,c):\n",
    "    if a==b==c:\n",
    "        return 3\n",
    "    elif a!=b and a!=c:\n",
    "         return 0\n",
    "    elif a!=b and a==c:\n",
    "        return 2\n",
    "    else:\n",
    "        return 2\n",
    "print(f'equal(3, 4, 3) ➞ {count(3,4,3)}')\n",
    "print(f'equal(1,1,1) ➞ {count(1,1,1)}')\n",
    "print(f'equal(3, 4, 1) ➞ {count(3,4,1)}')"
   ]
  },
  {
   "cell_type": "code",
   "execution_count": 14,
   "metadata": {},
   "outputs": [
    {
     "name": "stdout",
     "output_type": "stream",
     "text": [
      "[('D', 1), ('B', 2), ('C', 3)]\n",
      "[('likes', 2), ('dislikes', 3), ('followers', 10)]\n"
     ]
    }
   ],
   "source": [
    "#2.Write a function that converts a dictionary into a list of keys-values tuples.\n",
    "\n",
    "#Examples:\n",
    "#dict_to_list({\n",
    "#    \"D\": 1,\n",
    "#    \"B\": 2,\n",
    "#    \"C\": 3\n",
    "#    }) ➞ [(\"B\", 2), (\"C\", 3), (\"D\", 1)]  \n",
    "#dict_to_list({\n",
    "#    \"likes\": 2,\n",
    "#    \"dislikes\": 3,\n",
    "#    \"followers\": 10\n",
    "#    }) ➞ [(\"dislikes\", 3), (\"followers\", 10), (\"likes\", 2)]\n",
    "\n",
    "#Notes:\n",
    "#Return the elements in the list in alphabetical order.\n",
    "#ans2-\n",
    "def convert(dict):\n",
    "    values=[]\n",
    "    keys=[]\n",
    "    l=[]\n",
    "    for i in dict.values():\n",
    "        values.append(i)\n",
    "    for i in dict.keys():\n",
    "        keys.append(i)\n",
    "    for i in range(len(values)):\n",
    "        tuple=(keys[i],values[i])\n",
    "        l.append(tuple)\n",
    "        \n",
    "    return l\n",
    "print(convert({\"D\":1,\"B\":2,\"C\":3}))\n",
    "print(convert({\"likes\": 2,\"dislikes\": 3,\"followers\": 10}))"
   ]
  },
  {
   "cell_type": "code",
   "execution_count": 23,
   "metadata": {},
   "outputs": [
    {
     "name": "stdout",
     "output_type": "stream",
     "text": [
      "mapping([\"p\", \"s\"]) ➞ {'p': 'P', 's': 'S'}\n",
      "mapping([\"a\", \"b\", \"c\"]) ➞ {'a': 'A', 'b': 'B', 'c': 'C'}\n",
      "mapping([\"a\", \"v\", \"y\", \"z\"]) ➞ {'a': 'A', 'v': 'V', 'y': 'Y', 'z': 'Z'}\n"
     ]
    }
   ],
   "source": [
    "#3.Write a function that creates a dictionary with each (key, value) pair being the \n",
    "#(lower case, upper case) versions of a letter, respectively.\n",
    "#Examples:\n",
    "#mapping([\"p\", \"s\"]) ➞ { \"p\": \"P\", \"s\": \"S\" }\n",
    "#mapping([\"a\", \"b\", \"c\"]) ➞ { \"a\": \"A\", \"b\": \"B\", \"c\": \"C\" }\n",
    "#mapping([\"a\", \"v\", \"y\", \"z\"]) ➞ { \"a\": \"A\", \"v\": \"V\", \"y\": \"Y\", \"z\": \"Z\" }\n",
    "\n",
    "#Notes:\n",
    "#All of the letters in the input list will always be lowercase.\n",
    "#ans3-\n",
    "def dict(list):\n",
    "    dict={}\n",
    "    for i in range(len(list)):\n",
    "        dict[list[i]]=list[i].upper()\n",
    "    return dict\n",
    "print(f'mapping([\"p\", \"s\"]) ➞ {dict([\"p\", \"s\"])}')\n",
    "print(f'mapping([\"a\", \"b\", \"c\"]) ➞ {dict([\"a\", \"b\", \"c\"])}')\n",
    "print(f'mapping([\"a\", \"v\", \"y\", \"z\"]) ➞ {dict([\"a\", \"v\", \"y\", \"z\"])}')"
   ]
  },
  {
   "cell_type": "code",
   "execution_count": 10,
   "metadata": {},
   "outputs": [
    {
     "name": "stdout",
     "output_type": "stream",
     "text": [
      "apples and bananas ➞ upplus und bununus\n",
      "cheese casserole ➞ chooso cossorolo\n",
      "stuffed jalapeno poppers ➞ steffed jelepene peppers\n"
     ]
    }
   ],
   "source": [
    "#4.Write a function, that replaces all vowels in a string with a specified vowel.\n",
    "\n",
    "#Examples:\n",
    "#vow_replace(\"apples and bananas\", \"u\") ➞ \"upplus und bununus\"\n",
    "#vow_replace(\"cheese casserole\", \"o\") ➞ \"chooso cossorolo\"\n",
    "#vow_replace(\"stuffed jalapeno poppers\", \"e\") ➞ \"steffed jelepene peppers\"\n",
    "\n",
    "#Notes:\n",
    "#All words will be lowercase. Y is not considered a vowel.\n",
    "#ans4-\n",
    "def vow_replace(in_string,vow_char):\n",
    "    vowels = ['a','e','i','o','u']\n",
    "    out_string = ''\n",
    "    for ele in in_string:\n",
    "        if ele in vowels:\n",
    "            out_string += vow_char\n",
    "        else:\n",
    "            out_string += ele\n",
    "    print(f'{in_string} ➞ {out_string}')\n",
    "        \n",
    "vow_replace(\"apples and bananas\", \"u\")\n",
    "vow_replace(\"cheese casserole\", \"o\")\n",
    "vow_replace(\"stuffed jalapeno poppers\", \"e\")"
   ]
  },
  {
   "cell_type": "code",
   "execution_count": 10,
   "metadata": {},
   "outputs": [
    {
     "name": "stdout",
     "output_type": "stream",
     "text": [
      "ascii_capitalize(\"to be or not to be!\") ➞ To Be oR NoT To Be!\n",
      "ascii_capitalize(\"THE LITTLE MERMAID\") ➞ THE LITTLE MERMAID\n",
      "ascii_capitalize(\"Oh what a beautiful morning.\") ➞ OH wHaT a BeauTiFuL moRNiNg.\n"
     ]
    }
   ],
   "source": [
    "#5.Create a function that takes a string as input and capitalizes a letter if its ASCII \n",
    "#code is even and returns its lower case version if its ASCII code is odd.\n",
    "\n",
    "#Examples:\n",
    "#ascii_capitalize(\"to be or not to be!\") ➞ \"To Be oR NoT To Be!\"\n",
    "#ascii_capitalize(\"THE LITTLE MERMAID\") ➞ \"THe LiTTLe meRmaiD\"\n",
    "#ascii_capitalize(\"Oh what a beautiful morning.\") ➞ \"oH wHaT a BeauTiFuL moRNiNg.\"\n",
    "#ans5-\n",
    "def change(str):\n",
    "    result=''\n",
    "    for i in range(len(str)):\n",
    "        if ord(str[i].lower())%2==0:\n",
    "            result=result+str[i].upper()\n",
    "        else:\n",
    "            result=result+str[i]\n",
    "    return result\n",
    "print(f'ascii_capitalize(\"to be or not to be!\") ➞ {change(\"to be or not to be!\")}')\n",
    "print(f'ascii_capitalize(\"THE LITTLE MERMAID\") ➞ {change(\"THE LITTLE MERMAID\")}')\n",
    "print(f'ascii_capitalize(\"Oh what a beautiful morning.\") ➞ {change(\"Oh what a beautiful morning.\")}')"
   ]
  },
  {
   "cell_type": "code",
   "execution_count": null,
   "metadata": {},
   "outputs": [],
   "source": []
  },
  {
   "cell_type": "code",
   "execution_count": null,
   "metadata": {},
   "outputs": [],
   "source": []
  },
  {
   "cell_type": "code",
   "execution_count": null,
   "metadata": {},
   "outputs": [],
   "source": []
  }
 ],
 "metadata": {
  "kernelspec": {
   "display_name": "Python 3",
   "language": "python",
   "name": "python3"
  },
  "language_info": {
   "codemirror_mode": {
    "name": "ipython",
    "version": 3
   },
   "file_extension": ".py",
   "mimetype": "text/x-python",
   "name": "python",
   "nbconvert_exporter": "python",
   "pygments_lexer": "ipython3",
   "version": "3.8.3"
  }
 },
 "nbformat": 4,
 "nbformat_minor": 4
}
