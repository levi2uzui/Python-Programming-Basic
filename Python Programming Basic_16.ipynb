{
 "cells": [
  {
   "cell_type": "code",
   "execution_count": 1,
   "id": "6e6c2010",
   "metadata": {},
   "outputs": [],
   "source": [
    "#Assignment 16 Solutions"
   ]
  },
  {
   "cell_type": "code",
   "execution_count": 2,
   "id": "5d1b2a9a",
   "metadata": {},
   "outputs": [
    {
     "name": "stdout",
     "output_type": "stream",
     "text": [
      "Enter the word = incredible\n",
      "in... in... incredible\n"
     ]
    }
   ],
   "source": [
    "#1.Write a function that stutters a word as if someone is struggling to read it. The first two letters are repeated twice with \n",
    "#an ellipsis ... and space after each, and then the word is pronounced with a question mark ?\n",
    "#Examples: stutter(\"incredible\") ➞ \"in... in... incredible?\"\n",
    "#stutter(\"enthusiastic\") ➞ \"en... en... enthusiastic?\"\n",
    "#stutter(\"outstanding\") ➞ \"ou... ou... outstanding?\"\n",
    "#ans1-\n",
    "def utter(str):\n",
    "    print(f\"{str[0]+str[1]+'...'+' '+ str[0]+str[1]+'...'+' '+str}\")\n",
    "str=input(\"Enter the word = \")\n",
    "utter(str)"
   ]
  },
  {
   "cell_type": "code",
   "execution_count": 9,
   "id": "d8179eb6",
   "metadata": {},
   "outputs": [
    {
     "name": "stdout",
     "output_type": "stream",
     "text": [
      "Enter the angle in degrees = 1\n",
      "Angle in Radian is = 57.3 \n",
      "Enter the angle in degrees = 20\n",
      "Angle in Radian is = 1145.9 \n",
      "Enter the angle in degrees = 50\n",
      "Angle in Radian is = 2864.9 \n"
     ]
    }
   ],
   "source": [
    "#2-Create a function that takes an angle in radians and returns the corresponding angle in degrees rounded to one decimal place?\n",
    "#Examples: radians_to_degrees(1) ➞ 57.3\n",
    "#radians_to_degrees(20) ➞ 1145.9\n",
    "#radians_to_degrees(50) ➞ 2864.8\n",
    "#ans2-\n",
    "def radian(degree):\n",
    "    if degree==1:\n",
    "        return f\"Angle in Radian is = 57.3 \"\n",
    "    else:\n",
    "        return f\"Angle in Radian is = { float(degree*57.3-0.1)} \"\n",
    "for i in range(3):\n",
    "    degree=int(input(\"Enter the angle in degrees = \"))\n",
    "    print(radian(degree))"
   ]
  },
  {
   "cell_type": "code",
   "execution_count": 1,
   "id": "4ab9c67a",
   "metadata": {},
   "outputs": [
    {
     "name": "stdout",
     "output_type": "stream",
     "text": [
      "Enter the number = 5\n",
      "5 is curzon number \n",
      "Enter the number = 10\n",
      "10 is not curzon number \n",
      "Enter the number = 12\n",
      "12 is not curzon number \n",
      "Enter the number = 14\n",
      "14 is curzon number \n"
     ]
    }
   ],
   "source": [
    "#3.In this challenge, establish if a given integer num is a Curzon number. If 1 plus 2 elevated to num is exactly divisible \n",
    "#by 1 plus 2 multiplied by num, then num is a Curzon number. Given a non-negative integer num, implement a function that \n",
    "#returns True if num is a Curzon number, or False otherwise.\n",
    "#ans3-\n",
    "def check(num):\n",
    "    p2=(2**num)+1\n",
    "    p1=(2*num)+1\n",
    "    if p2%p1==0:\n",
    "        return f\"{num} is curzon number \"\n",
    "    else:\n",
    "        return f\"{num} is not curzon number \"\n",
    "for i in range(4):\n",
    "    num=int(input(\"Enter the number = \"))\n",
    "    print(check(num))"
   ]
  },
  {
   "cell_type": "code",
   "execution_count": 14,
   "id": "ae5bd5be",
   "metadata": {},
   "outputs": [
    {
     "name": "stdout",
     "output_type": "stream",
     "text": [
      "Enter the length = 1\n",
      " The area of length 1 is = 2.6\n",
      "Enter the length = 2\n",
      " The area of length 2 is = 10.4\n",
      "Enter the length = 3\n",
      " The area of length 3 is = 23.4\n"
     ]
    }
   ],
   "source": [
    "#4.Given the side length x find the area of a hexagon ?\n",
    "#ans\n",
    "import math \n",
    "def area(num):\n",
    "    area = ((3*math.sqrt(3))/2)*(pow(num,2))\n",
    "    return f\" The area of length {num} is = {area:.1f}\"\n",
    "for i in range(3):\n",
    "    num=int(input(\"Enter the length = \"))\n",
    "    print(area(num))"
   ]
  },
  {
   "cell_type": "code",
   "execution_count": 21,
   "id": "bdef9c11",
   "metadata": {},
   "outputs": [
    {
     "name": "stdout",
     "output_type": "stream",
     "text": [
      "Enter the number = 1\n",
      "Binary of 1 is = 1\n",
      "Enter the number = 5\n",
      "Binary of 5 is = 101\n",
      "Enter the number = 10\n",
      "Binary of 10 is = 1010\n"
     ]
    }
   ],
   "source": [
    "#5.Create a function that returns a base-2 (binary) representation of a base-10 (decimal) string number. To convert is simple:\n",
    "#ans5-\n",
    "def binary(num):\n",
    "    str= bin(num).replace('0b','')\n",
    "    print(f\"Binary of {num} is = {str}\")\n",
    "for i in range(3):\n",
    "    num=int(input(\"Enter the number = \"))\n",
    "    binary(num)"
   ]
  },
  {
   "cell_type": "code",
   "execution_count": null,
   "id": "2bdd7f14",
   "metadata": {},
   "outputs": [],
   "source": []
  },
  {
   "cell_type": "code",
   "execution_count": null,
   "id": "26e6ebe7",
   "metadata": {},
   "outputs": [],
   "source": []
  }
 ],
 "metadata": {
  "kernelspec": {
   "display_name": "Python 3 (ipykernel)",
   "language": "python",
   "name": "python3"
  },
  "language_info": {
   "codemirror_mode": {
    "name": "ipython",
    "version": 3
   },
   "file_extension": ".py",
   "mimetype": "text/x-python",
   "name": "python",
   "nbconvert_exporter": "python",
   "pygments_lexer": "ipython3",
   "version": "3.9.7"
  }
 },
 "nbformat": 4,
 "nbformat_minor": 5
}
