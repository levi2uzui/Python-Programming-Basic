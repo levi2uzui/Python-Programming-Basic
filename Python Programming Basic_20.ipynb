{
 "cells": [
  {
   "cell_type": "code",
   "execution_count": 1,
   "metadata": {},
   "outputs": [],
   "source": [
    "#Assignment 20 Solutions"
   ]
  },
  {
   "cell_type": "code",
   "execution_count": 4,
   "metadata": {},
   "outputs": [
    {
     "name": "stdout",
     "output_type": "stream",
     "text": [
      "filter_list([1, 2, 3, \"a\", \"b\", 4]) ➞ [1, 2, 3, 4])\n",
      "filter_list([\"A\", 0, \"Edabit\", 1729, \"Python\", \"1729\"]) ➞ [0, 1729])\n",
      "filter_list([\"Nothing\", \"here\"]) ➞ [])\n"
     ]
    }
   ],
   "source": [
    "#1.Create a function that takes a list of strings and integers, and filters out the list so that it returns a \n",
    "#list of integers only.\n",
    "#Examples:\n",
    "#filter_list([1, 2, 3, \"a\", \"b\", 4]) ➞ [1, 2, 3, 4]\n",
    "#filter_list([\"A\", 0, \"Edabit\", 1729, \"Python\", \"1729\"]) ➞ [0, 1729]\n",
    "#filter_list([\"Nothing\", \"here\"]) ➞ []\n",
    "#ans1-\n",
    "def reducelist(list):\n",
    "    l1=[]\n",
    "    for i in range(len(list)):\n",
    "            if type(list[i])==int:\n",
    "                l1.append(list[i])\n",
    "    return l1\n",
    "print(f'filter_list([1, 2, 3, \"a\", \"b\", 4]) ➞ {reducelist([1, 2, 3, \"a\", \"b\", 4])})')\n",
    "print(f'filter_list([\"A\", 0, \"Edabit\", 1729, \"Python\", \"1729\"]) ➞ {reducelist([\"A\", 0, \"Edabit\", 1729, \"Python\",\"1729\"])})')\n",
    "print(f'filter_list([\"Nothing\", \"here\"]) ➞ {reducelist([\"Nothing\", \"here\"])})')"
   ]
  },
  {
   "cell_type": "code",
   "execution_count": 8,
   "metadata": {},
   "outputs": [
    {
     "name": "stdout",
     "output_type": "stream",
     "text": [
      "add_indexes([0, 0, 0, 0, 0]) ➞ [0, 1, 2, 3, 4]\n",
      "add_indexes([1, 2, 3, 4, 5]) ➞ [1, 3, 5, 7, 9]\n",
      "add_indexes([5, 4, 3, 2, 1]) ➞ [5, 5, 5, 5, 5]\n"
     ]
    }
   ],
   "source": [
    "#2.Given a list of numbers, create a function which returns the list but with each element&#39;s\n",
    "#index in the list added to itself. This means you add 0 to the number at index 0, add 1 to the\n",
    "#number at index 1, etc...\n",
    "#Examples:\n",
    "#add_indexes([0, 0, 0, 0, 0]) ➞ [0, 1, 2, 3, 4]\n",
    "#add_indexes([1, 2, 3, 4, 5]) ➞ [1, 3, 5, 7, 9]\n",
    "#add_indexes([5, 4, 3, 2, 1]) ➞ [5, 5, 5, 5, 5]\n",
    "#ans2-\n",
    "def add(list):\n",
    "    sum=[]\n",
    "    for i in range(len(list)):\n",
    "        sum.append(list[i]+i)\n",
    "    return sum\n",
    "print(f'add_indexes([0, 0, 0, 0, 0]) ➞ {add([0, 0, 0, 0, 0])}')\n",
    "print(f'add_indexes([1, 2, 3, 4, 5]) ➞ {add([1, 2, 3, 4, 5])}')\n",
    "print(f'add_indexes([5, 4, 3, 2, 1]) ➞ {add([5, 4, 3, 2, 1])}')"
   ]
  },
  {
   "cell_type": "code",
   "execution_count": 22,
   "metadata": {},
   "outputs": [
    {
     "name": "stdout",
     "output_type": "stream",
     "text": [
      "cone_volume(3, 2) ➞ 12.57\n",
      "cone_volume(15, 6) ➞ 565.49\n",
      "cone_volume(18, 0) ➞ 0\n"
     ]
    }
   ],
   "source": [
    "#3.Create a function that takes the height and radius of a cone as arguments and returns the volume of the cone \n",
    "#rounded to the nearest hundredth. See the resources tab for the formula.\n",
    "#Examples:\n",
    "#cone_volume(3, 2) ➞ 12.57\n",
    "#cone_volume(15, 6) ➞ 565.49\n",
    "#cone_volume(18, 0) ➞ 0\n",
    "#ans3-\n",
    "import math\n",
    "def volume(h,r):\n",
    "    volume = ((math.pi)*pow(r,2))*(h/3)\n",
    "    if volume != 0.00:\n",
    "        return volume\n",
    "    else:\n",
    "        return 0\n",
    "print(f'cone_volume(3, 2) ➞ {volume(3,2):.2f}')\n",
    "print(f'cone_volume(15, 6) ➞ {volume(15, 6):.2f}')\n",
    "print(f'cone_volume(18, 0) ➞ {volume(18, 0)}')"
   ]
  },
  {
   "cell_type": "code",
   "execution_count": 23,
   "metadata": {},
   "outputs": [
    {
     "name": "stdout",
     "output_type": "stream",
     "text": [
      "triangle(1) ➞ 1\n",
      "triangle(1) ➞ 21\n",
      "triangle(1) ➞ 23220\n"
     ]
    }
   ],
   "source": [
    "#4.This Triangular Number Sequence is generated from a pattern of dots that form a triangle.\n",
    "#The first 5 numbers of the sequence, or dots, are: 1, 3, 6, 10, 15\n",
    "#This means that the first triangle has just one dot, the second one has three dots, the third one has 6 dots \n",
    "#and so on. Write a function that gives the number of dots with its corresponding triangle number of the sequence.\n",
    "#Examples:\n",
    "#triangle(1) ➞ 1\n",
    "#triangle(6) ➞ 21\n",
    "#triangle(215) ➞ 23220\n",
    "#ans4-\n",
    "def tri(num):\n",
    "    sum=0\n",
    "    for i in range(1,num):\n",
    "        sum=sum+i\n",
    "    return sum+num\n",
    "print(f'triangle(1) ➞ {tri(1)}')\n",
    "print(f'triangle(1) ➞ {tri(6)}')\n",
    "print(f'triangle(1) ➞ {tri(215)}')"
   ]
  },
  {
   "cell_type": "code",
   "execution_count": 37,
   "metadata": {},
   "outputs": [
    {
     "name": "stdout",
     "output_type": "stream",
     "text": [
      "missing_num([1, 2, 3, 4, 6, 7, 8, 9, 10]) ➞ 5\n",
      "missing_num([7, 2, 3, 6, 5, 9, 1, 4, 8]) ➞ 10\n",
      "missing_num([10, 5, 1, 2, 4, 6, 8, 3, 9]) ➞ 7\n"
     ]
    }
   ],
   "source": [
    "#5.Create a function that takes a list of numbers between 1 and 10 (excluding one number) and returns the missing \n",
    "#number.\n",
    "#Examples:\n",
    "#missing_num([1, 2, 3, 4, 6, 7, 8, 9, 10]) ➞ 5\n",
    "#missing_num([7, 2, 3, 6, 5, 9, 1, 4, 8]) ➞ 10\n",
    "#missing_num([10, 5, 1, 2, 4, 6, 8, 3, 9]) ➞ 7\n",
    "#ans5-\n",
    "def missing(list):\n",
    "#     l1=sorted(list)\n",
    "    for i in range(1,11):\n",
    "        if i not in list:\n",
    "            return i\n",
    "print(f'missing_num([1, 2, 3, 4, 6, 7, 8, 9, 10]) ➞ {missing([1, 2, 3, 4, 6, 7, 8, 9, 10])}')\n",
    "print(f'missing_num([7, 2, 3, 6, 5, 9, 1, 4, 8]) ➞ {missing([7, 2, 3, 6, 5, 9, 1, 4, 8])}')\n",
    "print(f'missing_num([10, 5, 1, 2, 4, 6, 8, 3, 9]) ➞ {missing([10, 5, 1, 2, 4, 6, 8, 3, 9])}')"
   ]
  },
  {
   "cell_type": "code",
   "execution_count": null,
   "metadata": {},
   "outputs": [],
   "source": []
  },
  {
   "cell_type": "code",
   "execution_count": null,
   "metadata": {},
   "outputs": [],
   "source": []
  }
 ],
 "metadata": {
  "kernelspec": {
   "display_name": "Python 3",
   "language": "python",
   "name": "python3"
  },
  "language_info": {
   "codemirror_mode": {
    "name": "ipython",
    "version": 3
   },
   "file_extension": ".py",
   "mimetype": "text/x-python",
   "name": "python",
   "nbconvert_exporter": "python",
   "pygments_lexer": "ipython3",
   "version": "3.8.3"
  }
 },
 "nbformat": 4,
 "nbformat_minor": 4
}
